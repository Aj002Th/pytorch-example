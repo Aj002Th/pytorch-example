{
 "cells": [
  {
   "cell_type": "markdown",
   "metadata": {},
   "source": [
    "## softmax 简洁实现\n",
    "例子: 对 mnist 数据集中的图片进行分类预测"
   ]
  },
  {
   "cell_type": "markdown",
   "metadata": {},
   "source": [
    "### 导入一些库"
   ]
  },
  {
   "cell_type": "code",
   "execution_count": 26,
   "metadata": {},
   "outputs": [],
   "source": [
    "import torch\n",
    "from torch import nn\n",
    "import torchvision\n",
    "from torch.utils import data\n",
    "from torchvision import transforms\n",
    "from matplotlib import pyplot as plt\n",
    "import time\n",
    "from IPython.core import display"
   ]
  },
  {
   "cell_type": "markdown",
   "metadata": {},
   "source": [
    "### 读取数据集"
   ]
  },
  {
   "cell_type": "code",
   "execution_count": 27,
   "metadata": {},
   "outputs": [],
   "source": [
    "def get_dataloader_workers():\n",
    "    \"\"\"设定工作进程数\"\"\"\n",
    "    return 0"
   ]
  },
  {
   "cell_type": "code",
   "execution_count": 28,
   "metadata": {},
   "outputs": [],
   "source": [
    "def load_data_mnist(batch_size, resize=None):\n",
    "    \"\"\"下载MNIST数据集，然后将其加载到内存中\"\"\"\n",
    "    trans = [transforms.ToTensor()]\n",
    "    if resize:\n",
    "        trans.insert(0, transforms.Resize(resize))\n",
    "    trans = transforms.Compose(trans)\n",
    "    mnist_train = torchvision.datasets.MNIST(\n",
    "        root=\"../data\", train=True, transform=trans, download=True)\n",
    "    mnist_test = torchvision.datasets.MNIST(\n",
    "        root=\"../data\", train=False, transform=trans, download=True)\n",
    "    return (data.DataLoader(mnist_train, batch_size, shuffle=True,\n",
    "                            num_workers=get_dataloader_workers()),\n",
    "            data.DataLoader(mnist_test, batch_size, shuffle=False,\n",
    "                            num_workers=get_dataloader_workers()))"
   ]
  },
  {
   "cell_type": "code",
   "execution_count": 29,
   "metadata": {},
   "outputs": [],
   "source": [
    "batch_size = 10\n",
    "train_iter, test_iter = load_data_mnist(batch_size)"
   ]
  },
  {
   "cell_type": "markdown",
   "metadata": {},
   "source": [
    "### 初始化模型参数"
   ]
  },
  {
   "cell_type": "code",
   "execution_count": 30,
   "metadata": {},
   "outputs": [
    {
     "data": {
      "text/plain": [
       "Sequential(\n",
       "  (0): Flatten(start_dim=1, end_dim=-1)\n",
       "  (1): Linear(in_features=784, out_features=10, bias=True)\n",
       ")"
      ]
     },
     "execution_count": 30,
     "metadata": {},
     "output_type": "execute_result"
    }
   ],
   "source": [
    "net = nn.Sequential(nn.Flatten(), nn.Linear(784, 10))\n",
    "\n",
    "def init_weights(m):\n",
    "    if type(m) == nn.Linear:\n",
    "        nn.init.normal_(m.weight, std=0.01)\n",
    "\n",
    "net.apply(init_weights)"
   ]
  },
  {
   "cell_type": "markdown",
   "metadata": {},
   "source": [
    "### 定义优化算法"
   ]
  },
  {
   "cell_type": "code",
   "execution_count": 31,
   "metadata": {},
   "outputs": [],
   "source": [
    "trainer = torch.optim.SGD(net.parameters(), lr=0.01)"
   ]
  },
  {
   "cell_type": "markdown",
   "metadata": {},
   "source": [
    "### 定义损失函数"
   ]
  },
  {
   "cell_type": "code",
   "execution_count": 32,
   "metadata": {},
   "outputs": [],
   "source": [
    "loss = nn.CrossEntropyLoss(reduction='none')"
   ]
  },
  {
   "cell_type": "markdown",
   "metadata": {},
   "source": [
    "### 训练结果精度评估"
   ]
  },
  {
   "cell_type": "code",
   "execution_count": 33,
   "metadata": {},
   "outputs": [],
   "source": [
    "def accuracy(y_hat, y):\n",
    "    \"\"\"计算预测正确的数量\"\"\"\n",
    "    if len(y_hat.shape) > 1 and y_hat.shape[1] > 1:\n",
    "        y_hat = y_hat.argmax(axis=1)\n",
    "    cmp = (y_hat.type(y.dtype) == y)\n",
    "    return float(cmp.type(y.dtype).sum())"
   ]
  },
  {
   "cell_type": "code",
   "execution_count": 34,
   "metadata": {},
   "outputs": [],
   "source": [
    "class Accumulator:\n",
    "    \"\"\"在 n 个变量上进行累加的一个累加器\"\"\"\n",
    "    def __init__(self, n):\n",
    "        self.data = [0.0] * n\n",
    "\n",
    "    def add(self, *args):\n",
    "        self.data = [a + float(b) for a, b in zip(self.data, args)]\n",
    "    \n",
    "    def reset(self):\n",
    "        selfdata = [0.0] * len(self.data)\n",
    "    \n",
    "    def __getitem__(self, idx):\n",
    "        return self.data[idx]"
   ]
  },
  {
   "cell_type": "code",
   "execution_count": 35,
   "metadata": {},
   "outputs": [],
   "source": [
    "def evaluate_accuracy(net, data_iter):\n",
    "    \"\"\"计算在特定数据集上的模型精度\"\"\"\n",
    "    metric = Accumulator(2)\n",
    "    for X, y in data_iter:\n",
    "        metric.add(accuracy(net(X), y), y.numel())\n",
    "    return metric[0] / metric[1] # 成功预测的数 / 预测总数"
   ]
  },
  {
   "cell_type": "markdown",
   "metadata": {},
   "source": [
    "### 开始训练"
   ]
  },
  {
   "cell_type": "markdown",
   "metadata": {},
   "source": [
    "训练可视化工具"
   ]
  },
  {
   "cell_type": "code",
   "execution_count": 36,
   "metadata": {},
   "outputs": [],
   "source": [
    "class Animator:\n",
    "    \"\"\"在动画中绘制数据\"\"\"\n",
    "    def __init__(self, xlabel=None, ylabel=None, legend=None, xlim=None,\n",
    "                 ylim=None, xscale='linear', yscale='linear',\n",
    "                 fmts=('-', 'm--', 'g-.', 'r:'), nrows=1, ncols=1,\n",
    "                 figsize=(3.5, 2.5)):\n",
    "        # 增量地绘制多条线\n",
    "        if legend is None:\n",
    "            legend = []\n",
    "        display.set_matplotlib_formats('svg')\n",
    "        self.fig, self.axes = plt.subplots(nrows, ncols, figsize=figsize)\n",
    "        if nrows * ncols == 1:\n",
    "            self.axes = [self.axes, ]\n",
    "        # 使用lambda函数捕获参数\n",
    "        def set_axes(axes, xlabel, ylabel, xlim, ylim, xscale, yscale, legend):\n",
    "            \"\"\"Set the axes for matplotlib.\"\"\"\n",
    "            axes.set_xlabel(xlabel)\n",
    "            axes.set_ylabel(ylabel)\n",
    "            axes.set_xscale(xscale)\n",
    "            axes.set_yscale(yscale)\n",
    "            axes.set_xlim(xlim)\n",
    "            axes.set_ylim(ylim)\n",
    "            if legend:\n",
    "                axes.legend(legend)\n",
    "            axes.grid()\n",
    "        self.config_axes = lambda: set_axes(\n",
    "            self.axes[0], xlabel, ylabel, xlim, ylim, xscale, yscale, legend)\n",
    "        # 初始化参数\n",
    "        self.X, self.Y, self.fmts = None, None, fmts\n",
    "\n",
    "    def add(self, x, y):\n",
    "        # 向图表中添加多个数据点\n",
    "        if not hasattr(y, \"__len__\"):\n",
    "            y = [y]\n",
    "        n = len(y)\n",
    "        if not hasattr(x, \"__len__\"):\n",
    "            x = [x] * n\n",
    "        if not self.X:\n",
    "            self.X = [[] for _ in range(n)]\n",
    "        if not self.Y:\n",
    "            self.Y = [[] for _ in range(n)]\n",
    "        for i, (a, b) in enumerate(zip(x, y)):\n",
    "            if a is not None and b is not None:\n",
    "                self.X[i].append(a)\n",
    "                self.Y[i].append(b)\n",
    "        self.axes[0].cla()\n",
    "        for x, y, fmt in zip(self.X, self.Y, self.fmts):\n",
    "            self.axes[0].plot(x, y, fmt)\n",
    "        self.config_axes()\n",
    "        display.display(self.fig)\n",
    "        display.clear_output(wait=True)"
   ]
  },
  {
   "cell_type": "markdown",
   "metadata": {},
   "source": [
    "训练函数"
   ]
  },
  {
   "cell_type": "code",
   "execution_count": 37,
   "metadata": {},
   "outputs": [],
   "source": [
    "def train_epoch_softmax(net, train_iter, loss, updater):\n",
    "    \"\"\"训练模型的一个迭代周期\"\"\" \n",
    "    # 将模型调整成训练模式\n",
    "    if isinstance(net, torch.nn.Module):\n",
    "        net.train()\n",
    "    # 训练损失总和、训练精准度总和、样本数\n",
    "    metric = Accumulator(3)\n",
    "    for X, y in train_iter:\n",
    "        y_hat = net(X)\n",
    "        l = loss(y_hat, y)\n",
    "        updater.zero_grad()\n",
    "        l.mean().backward()\n",
    "        updater.step()\n",
    "    # 返回训练损失和训练精度\n",
    "    metric.add(float(l.sum()), accuracy(y_hat, y), y.numel())\n",
    "    return metric[0] / metric[2], metric[1] / metric[2]"
   ]
  },
  {
   "cell_type": "code",
   "execution_count": 38,
   "metadata": {},
   "outputs": [],
   "source": [
    "def train_softmax(net, train_iter, test_iter, loss, num_epochs, updater):\n",
    "    animator = Animator(xlabel='epoch', xlim=[1, num_epochs], ylim=[0, 1],\n",
    "                         legend=['train loss', 'train acc', 'test acc'])\n",
    "    for epoch in range(num_epochs):\n",
    "        train_metrics = train_epoch_softmax(net, train_iter, loss, updater)\n",
    "        test_acc = evaluate_accuracy(net, test_iter)\n",
    "        animator.add(epoch + 1, train_metrics + (test_acc,))\n",
    "    train_loss, train_acc = train_metrics\n",
    "    assert train_loss < 0.5, train_loss\n",
    "    assert train_acc <= 1 and train_acc > 0.7, train_acc\n",
    "    assert test_acc <= 1 and test_acc > 0.7, test_acc"
   ]
  },
  {
   "cell_type": "markdown",
   "metadata": {},
   "source": [
    "训练 num_epochs 个周期"
   ]
  },
  {
   "cell_type": "code",
   "execution_count": 39,
   "metadata": {},
   "outputs": [
    {
     "data": {
      "image/svg+xml": "<?xml version=\"1.0\" encoding=\"utf-8\" standalone=\"no\"?>\n<!DOCTYPE svg PUBLIC \"-//W3C//DTD SVG 1.1//EN\"\n  \"http://www.w3.org/Graphics/SVG/1.1/DTD/svg11.dtd\">\n<svg xmlns:xlink=\"http://www.w3.org/1999/xlink\" width=\"238.965625pt\" height=\"184.455469pt\" viewBox=\"0 0 238.965625 184.455469\" xmlns=\"http://www.w3.org/2000/svg\" version=\"1.1\">\n <metadata>\n  <rdf:RDF xmlns:dc=\"http://purl.org/dc/elements/1.1/\" xmlns:cc=\"http://creativecommons.org/ns#\" xmlns:rdf=\"http://www.w3.org/1999/02/22-rdf-syntax-ns#\">\n   <cc:Work>\n    <dc:type rdf:resource=\"http://purl.org/dc/dcmitype/StillImage\"/>\n    <dc:date>2022-09-18T19:12:07.368599</dc:date>\n    <dc:format>image/svg+xml</dc:format>\n    <dc:creator>\n     <cc:Agent>\n      <dc:title>Matplotlib v3.5.1, https://matplotlib.org/</dc:title>\n     </cc:Agent>\n    </dc:creator>\n   </cc:Work>\n  </rdf:RDF>\n </metadata>\n <defs>\n  <style type=\"text/css\">*{stroke-linejoin: round; stroke-linecap: butt}</style>\n </defs>\n <g id=\"figure_1\">\n  <g id=\"patch_1\">\n   <path d=\"M 0 184.455469 \nL 238.965625 184.455469 \nL 238.965625 -0 \nL 0 -0 \nL 0 184.455469 \nz\n\" style=\"fill: none\"/>\n  </g>\n  <g id=\"axes_1\">\n   <g id=\"patch_2\">\n    <path d=\"M 30.103125 146.899219 \nL 225.403125 146.899219 \nL 225.403125 10.999219 \nL 30.103125 10.999219 \nz\n\" style=\"fill: #ffffff\"/>\n   </g>\n   <g id=\"matplotlib.axis_1\">\n    <g id=\"xtick_1\">\n     <g id=\"line2d_1\">\n      <path d=\"M 71.218914 146.899219 \nL 71.218914 10.999219 \n\" clip-path=\"url(#p760dec1163)\" style=\"fill: none; stroke: #b0b0b0; stroke-width: 0.8; stroke-linecap: square\"/>\n     </g>\n     <g id=\"line2d_2\">\n      <defs>\n       <path id=\"m2907888418\" d=\"M 0 0 \nL 0 3.5 \n\" style=\"stroke: #000000; stroke-width: 0.8\"/>\n      </defs>\n      <g>\n       <use xlink:href=\"#m2907888418\" x=\"71.218914\" y=\"146.899219\" style=\"stroke: #000000; stroke-width: 0.8\"/>\n      </g>\n     </g>\n     <g id=\"text_1\">\n      <!-- 5 -->\n      <g transform=\"translate(68.037664 161.497656)scale(0.1 -0.1)\">\n       <defs>\n        <path id=\"DejaVuSans-35\" d=\"M 691 4666 \nL 3169 4666 \nL 3169 4134 \nL 1269 4134 \nL 1269 2991 \nQ 1406 3038 1543 3061 \nQ 1681 3084 1819 3084 \nQ 2600 3084 3056 2656 \nQ 3513 2228 3513 1497 \nQ 3513 744 3044 326 \nQ 2575 -91 1722 -91 \nQ 1428 -91 1123 -41 \nQ 819 9 494 109 \nL 494 744 \nQ 775 591 1075 516 \nQ 1375 441 1709 441 \nQ 2250 441 2565 725 \nQ 2881 1009 2881 1497 \nQ 2881 1984 2565 2268 \nQ 2250 2553 1709 2553 \nQ 1456 2553 1204 2497 \nQ 953 2441 691 2322 \nL 691 4666 \nz\n\" transform=\"scale(0.015625)\"/>\n       </defs>\n       <use xlink:href=\"#DejaVuSans-35\"/>\n      </g>\n     </g>\n    </g>\n    <g id=\"xtick_2\">\n     <g id=\"line2d_3\">\n      <path d=\"M 122.613651 146.899219 \nL 122.613651 10.999219 \n\" clip-path=\"url(#p760dec1163)\" style=\"fill: none; stroke: #b0b0b0; stroke-width: 0.8; stroke-linecap: square\"/>\n     </g>\n     <g id=\"line2d_4\">\n      <g>\n       <use xlink:href=\"#m2907888418\" x=\"122.613651\" y=\"146.899219\" style=\"stroke: #000000; stroke-width: 0.8\"/>\n      </g>\n     </g>\n     <g id=\"text_2\">\n      <!-- 10 -->\n      <g transform=\"translate(116.251151 161.497656)scale(0.1 -0.1)\">\n       <defs>\n        <path id=\"DejaVuSans-31\" d=\"M 794 531 \nL 1825 531 \nL 1825 4091 \nL 703 3866 \nL 703 4441 \nL 1819 4666 \nL 2450 4666 \nL 2450 531 \nL 3481 531 \nL 3481 0 \nL 794 0 \nL 794 531 \nz\n\" transform=\"scale(0.015625)\"/>\n        <path id=\"DejaVuSans-30\" d=\"M 2034 4250 \nQ 1547 4250 1301 3770 \nQ 1056 3291 1056 2328 \nQ 1056 1369 1301 889 \nQ 1547 409 2034 409 \nQ 2525 409 2770 889 \nQ 3016 1369 3016 2328 \nQ 3016 3291 2770 3770 \nQ 2525 4250 2034 4250 \nz\nM 2034 4750 \nQ 2819 4750 3233 4129 \nQ 3647 3509 3647 2328 \nQ 3647 1150 3233 529 \nQ 2819 -91 2034 -91 \nQ 1250 -91 836 529 \nQ 422 1150 422 2328 \nQ 422 3509 836 4129 \nQ 1250 4750 2034 4750 \nz\n\" transform=\"scale(0.015625)\"/>\n       </defs>\n       <use xlink:href=\"#DejaVuSans-31\"/>\n       <use xlink:href=\"#DejaVuSans-30\" x=\"63.623047\"/>\n      </g>\n     </g>\n    </g>\n    <g id=\"xtick_3\">\n     <g id=\"line2d_5\">\n      <path d=\"M 174.008388 146.899219 \nL 174.008388 10.999219 \n\" clip-path=\"url(#p760dec1163)\" style=\"fill: none; stroke: #b0b0b0; stroke-width: 0.8; stroke-linecap: square\"/>\n     </g>\n     <g id=\"line2d_6\">\n      <g>\n       <use xlink:href=\"#m2907888418\" x=\"174.008388\" y=\"146.899219\" style=\"stroke: #000000; stroke-width: 0.8\"/>\n      </g>\n     </g>\n     <g id=\"text_3\">\n      <!-- 15 -->\n      <g transform=\"translate(167.645888 161.497656)scale(0.1 -0.1)\">\n       <use xlink:href=\"#DejaVuSans-31\"/>\n       <use xlink:href=\"#DejaVuSans-35\" x=\"63.623047\"/>\n      </g>\n     </g>\n    </g>\n    <g id=\"xtick_4\">\n     <g id=\"line2d_7\">\n      <path d=\"M 225.403125 146.899219 \nL 225.403125 10.999219 \n\" clip-path=\"url(#p760dec1163)\" style=\"fill: none; stroke: #b0b0b0; stroke-width: 0.8; stroke-linecap: square\"/>\n     </g>\n     <g id=\"line2d_8\">\n      <g>\n       <use xlink:href=\"#m2907888418\" x=\"225.403125\" y=\"146.899219\" style=\"stroke: #000000; stroke-width: 0.8\"/>\n      </g>\n     </g>\n     <g id=\"text_4\">\n      <!-- 20 -->\n      <g transform=\"translate(219.040625 161.497656)scale(0.1 -0.1)\">\n       <defs>\n        <path id=\"DejaVuSans-32\" d=\"M 1228 531 \nL 3431 531 \nL 3431 0 \nL 469 0 \nL 469 531 \nQ 828 903 1448 1529 \nQ 2069 2156 2228 2338 \nQ 2531 2678 2651 2914 \nQ 2772 3150 2772 3378 \nQ 2772 3750 2511 3984 \nQ 2250 4219 1831 4219 \nQ 1534 4219 1204 4116 \nQ 875 4013 500 3803 \nL 500 4441 \nQ 881 4594 1212 4672 \nQ 1544 4750 1819 4750 \nQ 2544 4750 2975 4387 \nQ 3406 4025 3406 3419 \nQ 3406 3131 3298 2873 \nQ 3191 2616 2906 2266 \nQ 2828 2175 2409 1742 \nQ 1991 1309 1228 531 \nz\n\" transform=\"scale(0.015625)\"/>\n       </defs>\n       <use xlink:href=\"#DejaVuSans-32\"/>\n       <use xlink:href=\"#DejaVuSans-30\" x=\"63.623047\"/>\n      </g>\n     </g>\n    </g>\n    <g id=\"text_5\">\n     <!-- epoch -->\n     <g transform=\"translate(112.525 175.175781)scale(0.1 -0.1)\">\n      <defs>\n       <path id=\"DejaVuSans-65\" d=\"M 3597 1894 \nL 3597 1613 \nL 953 1613 \nQ 991 1019 1311 708 \nQ 1631 397 2203 397 \nQ 2534 397 2845 478 \nQ 3156 559 3463 722 \nL 3463 178 \nQ 3153 47 2828 -22 \nQ 2503 -91 2169 -91 \nQ 1331 -91 842 396 \nQ 353 884 353 1716 \nQ 353 2575 817 3079 \nQ 1281 3584 2069 3584 \nQ 2775 3584 3186 3129 \nQ 3597 2675 3597 1894 \nz\nM 3022 2063 \nQ 3016 2534 2758 2815 \nQ 2500 3097 2075 3097 \nQ 1594 3097 1305 2825 \nQ 1016 2553 972 2059 \nL 3022 2063 \nz\n\" transform=\"scale(0.015625)\"/>\n       <path id=\"DejaVuSans-70\" d=\"M 1159 525 \nL 1159 -1331 \nL 581 -1331 \nL 581 3500 \nL 1159 3500 \nL 1159 2969 \nQ 1341 3281 1617 3432 \nQ 1894 3584 2278 3584 \nQ 2916 3584 3314 3078 \nQ 3713 2572 3713 1747 \nQ 3713 922 3314 415 \nQ 2916 -91 2278 -91 \nQ 1894 -91 1617 61 \nQ 1341 213 1159 525 \nz\nM 3116 1747 \nQ 3116 2381 2855 2742 \nQ 2594 3103 2138 3103 \nQ 1681 3103 1420 2742 \nQ 1159 2381 1159 1747 \nQ 1159 1113 1420 752 \nQ 1681 391 2138 391 \nQ 2594 391 2855 752 \nQ 3116 1113 3116 1747 \nz\n\" transform=\"scale(0.015625)\"/>\n       <path id=\"DejaVuSans-6f\" d=\"M 1959 3097 \nQ 1497 3097 1228 2736 \nQ 959 2375 959 1747 \nQ 959 1119 1226 758 \nQ 1494 397 1959 397 \nQ 2419 397 2687 759 \nQ 2956 1122 2956 1747 \nQ 2956 2369 2687 2733 \nQ 2419 3097 1959 3097 \nz\nM 1959 3584 \nQ 2709 3584 3137 3096 \nQ 3566 2609 3566 1747 \nQ 3566 888 3137 398 \nQ 2709 -91 1959 -91 \nQ 1206 -91 779 398 \nQ 353 888 353 1747 \nQ 353 2609 779 3096 \nQ 1206 3584 1959 3584 \nz\n\" transform=\"scale(0.015625)\"/>\n       <path id=\"DejaVuSans-63\" d=\"M 3122 3366 \nL 3122 2828 \nQ 2878 2963 2633 3030 \nQ 2388 3097 2138 3097 \nQ 1578 3097 1268 2742 \nQ 959 2388 959 1747 \nQ 959 1106 1268 751 \nQ 1578 397 2138 397 \nQ 2388 397 2633 464 \nQ 2878 531 3122 666 \nL 3122 134 \nQ 2881 22 2623 -34 \nQ 2366 -91 2075 -91 \nQ 1284 -91 818 406 \nQ 353 903 353 1747 \nQ 353 2603 823 3093 \nQ 1294 3584 2113 3584 \nQ 2378 3584 2631 3529 \nQ 2884 3475 3122 3366 \nz\n\" transform=\"scale(0.015625)\"/>\n       <path id=\"DejaVuSans-68\" d=\"M 3513 2113 \nL 3513 0 \nL 2938 0 \nL 2938 2094 \nQ 2938 2591 2744 2837 \nQ 2550 3084 2163 3084 \nQ 1697 3084 1428 2787 \nQ 1159 2491 1159 1978 \nL 1159 0 \nL 581 0 \nL 581 4863 \nL 1159 4863 \nL 1159 2956 \nQ 1366 3272 1645 3428 \nQ 1925 3584 2291 3584 \nQ 2894 3584 3203 3211 \nQ 3513 2838 3513 2113 \nz\n\" transform=\"scale(0.015625)\"/>\n      </defs>\n      <use xlink:href=\"#DejaVuSans-65\"/>\n      <use xlink:href=\"#DejaVuSans-70\" x=\"61.523438\"/>\n      <use xlink:href=\"#DejaVuSans-6f\" x=\"125\"/>\n      <use xlink:href=\"#DejaVuSans-63\" x=\"186.181641\"/>\n      <use xlink:href=\"#DejaVuSans-68\" x=\"241.162109\"/>\n     </g>\n    </g>\n   </g>\n   <g id=\"matplotlib.axis_2\">\n    <g id=\"ytick_1\">\n     <g id=\"line2d_9\">\n      <path d=\"M 30.103125 146.899219 \nL 225.403125 146.899219 \n\" clip-path=\"url(#p760dec1163)\" style=\"fill: none; stroke: #b0b0b0; stroke-width: 0.8; stroke-linecap: square\"/>\n     </g>\n     <g id=\"line2d_10\">\n      <defs>\n       <path id=\"mb1565daff6\" d=\"M 0 0 \nL -3.5 0 \n\" style=\"stroke: #000000; stroke-width: 0.8\"/>\n      </defs>\n      <g>\n       <use xlink:href=\"#mb1565daff6\" x=\"30.103125\" y=\"146.899219\" style=\"stroke: #000000; stroke-width: 0.8\"/>\n      </g>\n     </g>\n     <g id=\"text_6\">\n      <!-- 0.0 -->\n      <g transform=\"translate(7.2 150.698437)scale(0.1 -0.1)\">\n       <defs>\n        <path id=\"DejaVuSans-2e\" d=\"M 684 794 \nL 1344 794 \nL 1344 0 \nL 684 0 \nL 684 794 \nz\n\" transform=\"scale(0.015625)\"/>\n       </defs>\n       <use xlink:href=\"#DejaVuSans-30\"/>\n       <use xlink:href=\"#DejaVuSans-2e\" x=\"63.623047\"/>\n       <use xlink:href=\"#DejaVuSans-30\" x=\"95.410156\"/>\n      </g>\n     </g>\n    </g>\n    <g id=\"ytick_2\">\n     <g id=\"line2d_11\">\n      <path d=\"M 30.103125 119.719219 \nL 225.403125 119.719219 \n\" clip-path=\"url(#p760dec1163)\" style=\"fill: none; stroke: #b0b0b0; stroke-width: 0.8; stroke-linecap: square\"/>\n     </g>\n     <g id=\"line2d_12\">\n      <g>\n       <use xlink:href=\"#mb1565daff6\" x=\"30.103125\" y=\"119.719219\" style=\"stroke: #000000; stroke-width: 0.8\"/>\n      </g>\n     </g>\n     <g id=\"text_7\">\n      <!-- 0.2 -->\n      <g transform=\"translate(7.2 123.518437)scale(0.1 -0.1)\">\n       <use xlink:href=\"#DejaVuSans-30\"/>\n       <use xlink:href=\"#DejaVuSans-2e\" x=\"63.623047\"/>\n       <use xlink:href=\"#DejaVuSans-32\" x=\"95.410156\"/>\n      </g>\n     </g>\n    </g>\n    <g id=\"ytick_3\">\n     <g id=\"line2d_13\">\n      <path d=\"M 30.103125 92.539219 \nL 225.403125 92.539219 \n\" clip-path=\"url(#p760dec1163)\" style=\"fill: none; stroke: #b0b0b0; stroke-width: 0.8; stroke-linecap: square\"/>\n     </g>\n     <g id=\"line2d_14\">\n      <g>\n       <use xlink:href=\"#mb1565daff6\" x=\"30.103125\" y=\"92.539219\" style=\"stroke: #000000; stroke-width: 0.8\"/>\n      </g>\n     </g>\n     <g id=\"text_8\">\n      <!-- 0.4 -->\n      <g transform=\"translate(7.2 96.338437)scale(0.1 -0.1)\">\n       <defs>\n        <path id=\"DejaVuSans-34\" d=\"M 2419 4116 \nL 825 1625 \nL 2419 1625 \nL 2419 4116 \nz\nM 2253 4666 \nL 3047 4666 \nL 3047 1625 \nL 3713 1625 \nL 3713 1100 \nL 3047 1100 \nL 3047 0 \nL 2419 0 \nL 2419 1100 \nL 313 1100 \nL 313 1709 \nL 2253 4666 \nz\n\" transform=\"scale(0.015625)\"/>\n       </defs>\n       <use xlink:href=\"#DejaVuSans-30\"/>\n       <use xlink:href=\"#DejaVuSans-2e\" x=\"63.623047\"/>\n       <use xlink:href=\"#DejaVuSans-34\" x=\"95.410156\"/>\n      </g>\n     </g>\n    </g>\n    <g id=\"ytick_4\">\n     <g id=\"line2d_15\">\n      <path d=\"M 30.103125 65.359219 \nL 225.403125 65.359219 \n\" clip-path=\"url(#p760dec1163)\" style=\"fill: none; stroke: #b0b0b0; stroke-width: 0.8; stroke-linecap: square\"/>\n     </g>\n     <g id=\"line2d_16\">\n      <g>\n       <use xlink:href=\"#mb1565daff6\" x=\"30.103125\" y=\"65.359219\" style=\"stroke: #000000; stroke-width: 0.8\"/>\n      </g>\n     </g>\n     <g id=\"text_9\">\n      <!-- 0.6 -->\n      <g transform=\"translate(7.2 69.158437)scale(0.1 -0.1)\">\n       <defs>\n        <path id=\"DejaVuSans-36\" d=\"M 2113 2584 \nQ 1688 2584 1439 2293 \nQ 1191 2003 1191 1497 \nQ 1191 994 1439 701 \nQ 1688 409 2113 409 \nQ 2538 409 2786 701 \nQ 3034 994 3034 1497 \nQ 3034 2003 2786 2293 \nQ 2538 2584 2113 2584 \nz\nM 3366 4563 \nL 3366 3988 \nQ 3128 4100 2886 4159 \nQ 2644 4219 2406 4219 \nQ 1781 4219 1451 3797 \nQ 1122 3375 1075 2522 \nQ 1259 2794 1537 2939 \nQ 1816 3084 2150 3084 \nQ 2853 3084 3261 2657 \nQ 3669 2231 3669 1497 \nQ 3669 778 3244 343 \nQ 2819 -91 2113 -91 \nQ 1303 -91 875 529 \nQ 447 1150 447 2328 \nQ 447 3434 972 4092 \nQ 1497 4750 2381 4750 \nQ 2619 4750 2861 4703 \nQ 3103 4656 3366 4563 \nz\n\" transform=\"scale(0.015625)\"/>\n       </defs>\n       <use xlink:href=\"#DejaVuSans-30\"/>\n       <use xlink:href=\"#DejaVuSans-2e\" x=\"63.623047\"/>\n       <use xlink:href=\"#DejaVuSans-36\" x=\"95.410156\"/>\n      </g>\n     </g>\n    </g>\n    <g id=\"ytick_5\">\n     <g id=\"line2d_17\">\n      <path d=\"M 30.103125 38.179219 \nL 225.403125 38.179219 \n\" clip-path=\"url(#p760dec1163)\" style=\"fill: none; stroke: #b0b0b0; stroke-width: 0.8; stroke-linecap: square\"/>\n     </g>\n     <g id=\"line2d_18\">\n      <g>\n       <use xlink:href=\"#mb1565daff6\" x=\"30.103125\" y=\"38.179219\" style=\"stroke: #000000; stroke-width: 0.8\"/>\n      </g>\n     </g>\n     <g id=\"text_10\">\n      <!-- 0.8 -->\n      <g transform=\"translate(7.2 41.978437)scale(0.1 -0.1)\">\n       <defs>\n        <path id=\"DejaVuSans-38\" d=\"M 2034 2216 \nQ 1584 2216 1326 1975 \nQ 1069 1734 1069 1313 \nQ 1069 891 1326 650 \nQ 1584 409 2034 409 \nQ 2484 409 2743 651 \nQ 3003 894 3003 1313 \nQ 3003 1734 2745 1975 \nQ 2488 2216 2034 2216 \nz\nM 1403 2484 \nQ 997 2584 770 2862 \nQ 544 3141 544 3541 \nQ 544 4100 942 4425 \nQ 1341 4750 2034 4750 \nQ 2731 4750 3128 4425 \nQ 3525 4100 3525 3541 \nQ 3525 3141 3298 2862 \nQ 3072 2584 2669 2484 \nQ 3125 2378 3379 2068 \nQ 3634 1759 3634 1313 \nQ 3634 634 3220 271 \nQ 2806 -91 2034 -91 \nQ 1263 -91 848 271 \nQ 434 634 434 1313 \nQ 434 1759 690 2068 \nQ 947 2378 1403 2484 \nz\nM 1172 3481 \nQ 1172 3119 1398 2916 \nQ 1625 2713 2034 2713 \nQ 2441 2713 2670 2916 \nQ 2900 3119 2900 3481 \nQ 2900 3844 2670 4047 \nQ 2441 4250 2034 4250 \nQ 1625 4250 1398 4047 \nQ 1172 3844 1172 3481 \nz\n\" transform=\"scale(0.015625)\"/>\n       </defs>\n       <use xlink:href=\"#DejaVuSans-30\"/>\n       <use xlink:href=\"#DejaVuSans-2e\" x=\"63.623047\"/>\n       <use xlink:href=\"#DejaVuSans-38\" x=\"95.410156\"/>\n      </g>\n     </g>\n    </g>\n    <g id=\"ytick_6\">\n     <g id=\"line2d_19\">\n      <path d=\"M 30.103125 10.999219 \nL 225.403125 10.999219 \n\" clip-path=\"url(#p760dec1163)\" style=\"fill: none; stroke: #b0b0b0; stroke-width: 0.8; stroke-linecap: square\"/>\n     </g>\n     <g id=\"line2d_20\">\n      <g>\n       <use xlink:href=\"#mb1565daff6\" x=\"30.103125\" y=\"10.999219\" style=\"stroke: #000000; stroke-width: 0.8\"/>\n      </g>\n     </g>\n     <g id=\"text_11\">\n      <!-- 1.0 -->\n      <g transform=\"translate(7.2 14.798437)scale(0.1 -0.1)\">\n       <use xlink:href=\"#DejaVuSans-31\"/>\n       <use xlink:href=\"#DejaVuSans-2e\" x=\"63.623047\"/>\n       <use xlink:href=\"#DejaVuSans-30\" x=\"95.410156\"/>\n      </g>\n     </g>\n    </g>\n   </g>\n   <g id=\"line2d_21\">\n    <path d=\"M 30.103125 37.65204 \nL 40.382072 113.844834 \nL 50.66102 135.615165 \nL 60.939967 141.979959 \nL 71.218914 130.946081 \nL 81.497862 133.998345 \nL 91.776809 106.282638 \nL 102.055757 131.687421 \nL 112.334704 137.296701 \nL 122.613651 138.448432 \nL 132.892599 124.404395 \nL 143.171546 140.255034 \nL 153.450493 75.545699 \nL 163.729441 97.993196 \nL 174.008388 137.405374 \nL 184.287336 132.088868 \nL 194.566283 109.159196 \nL 204.84523 119.493646 \nL 215.124178 124.219665 \nL 225.403125 95.727447 \n\" clip-path=\"url(#p760dec1163)\" style=\"fill: none; stroke: #1f77b4; stroke-width: 1.5; stroke-linecap: square\"/>\n   </g>\n   <g id=\"line2d_22\">\n    <path d=\"M 30.103125 24.589219 \nL 40.382072 10.999219 \nL 50.66102 10.999219 \nL 60.939967 10.999219 \nL 71.218914 10.999219 \nL 81.497862 10.999219 \nL 91.776809 24.589219 \nL 102.055757 10.999219 \nL 112.334704 10.999219 \nL 122.613651 10.999219 \nL 132.892599 10.999219 \nL 143.171546 10.999219 \nL 153.450493 24.589219 \nL 163.729441 24.589219 \nL 174.008388 10.999219 \nL 184.287336 10.999219 \nL 194.566283 24.589219 \nL 204.84523 24.589219 \nL 215.124178 24.589219 \nL 225.403125 24.589219 \n\" clip-path=\"url(#p760dec1163)\" style=\"fill: none; stroke-dasharray: 5.55,2.4; stroke-dashoffset: 0; stroke: #bf00bf; stroke-width: 1.5\"/>\n   </g>\n   <g id=\"line2d_23\">\n    <path d=\"M 30.103125 24.059209 \nL 40.382072 22.972009 \nL 50.66102 22.387639 \nL 60.939967 22.265329 \nL 71.218914 21.952759 \nL 81.497862 21.721729 \nL 91.776809 21.613009 \nL 102.055757 22.007119 \nL 112.334704 21.721729 \nL 122.613651 21.626599 \nL 132.892599 21.477109 \nL 143.171546 21.354799 \nL 153.450493 21.286849 \nL 163.729441 21.490699 \nL 174.008388 21.354799 \nL 184.287336 21.422749 \nL 194.566283 21.368389 \nL 204.84523 21.395569 \nL 215.124178 21.191719 \nL 225.403125 21.449929 \n\" clip-path=\"url(#p760dec1163)\" style=\"fill: none; stroke-dasharray: 9.6,2.4,1.5,2.4; stroke-dashoffset: 0; stroke: #008000; stroke-width: 1.5\"/>\n   </g>\n   <g id=\"patch_3\">\n    <path d=\"M 30.103125 146.899219 \nL 30.103125 10.999219 \n\" style=\"fill: none; stroke: #000000; stroke-width: 0.8; stroke-linejoin: miter; stroke-linecap: square\"/>\n   </g>\n   <g id=\"patch_4\">\n    <path d=\"M 225.403125 146.899219 \nL 225.403125 10.999219 \n\" style=\"fill: none; stroke: #000000; stroke-width: 0.8; stroke-linejoin: miter; stroke-linecap: square\"/>\n   </g>\n   <g id=\"patch_5\">\n    <path d=\"M 30.103125 146.899219 \nL 225.403125 146.899219 \n\" style=\"fill: none; stroke: #000000; stroke-width: 0.8; stroke-linejoin: miter; stroke-linecap: square\"/>\n   </g>\n   <g id=\"patch_6\">\n    <path d=\"M 30.103125 10.999219 \nL 225.403125 10.999219 \n\" style=\"fill: none; stroke: #000000; stroke-width: 0.8; stroke-linejoin: miter; stroke-linecap: square\"/>\n   </g>\n   <g id=\"legend_1\">\n    <g id=\"patch_7\">\n     <path d=\"M 37.103125 102.466406 \nL 114.871875 102.466406 \nQ 116.871875 102.466406 116.871875 100.466406 \nL 116.871875 57.432031 \nQ 116.871875 55.432031 114.871875 55.432031 \nL 37.103125 55.432031 \nQ 35.103125 55.432031 35.103125 57.432031 \nL 35.103125 100.466406 \nQ 35.103125 102.466406 37.103125 102.466406 \nz\n\" style=\"fill: #ffffff; opacity: 0.8; stroke: #cccccc; stroke-linejoin: miter\"/>\n    </g>\n    <g id=\"line2d_24\">\n     <path d=\"M 39.103125 63.530469 \nL 49.103125 63.530469 \nL 59.103125 63.530469 \n\" style=\"fill: none; stroke: #1f77b4; stroke-width: 1.5; stroke-linecap: square\"/>\n    </g>\n    <g id=\"text_12\">\n     <!-- train loss -->\n     <g transform=\"translate(67.103125 67.030469)scale(0.1 -0.1)\">\n      <defs>\n       <path id=\"DejaVuSans-74\" d=\"M 1172 4494 \nL 1172 3500 \nL 2356 3500 \nL 2356 3053 \nL 1172 3053 \nL 1172 1153 \nQ 1172 725 1289 603 \nQ 1406 481 1766 481 \nL 2356 481 \nL 2356 0 \nL 1766 0 \nQ 1100 0 847 248 \nQ 594 497 594 1153 \nL 594 3053 \nL 172 3053 \nL 172 3500 \nL 594 3500 \nL 594 4494 \nL 1172 4494 \nz\n\" transform=\"scale(0.015625)\"/>\n       <path id=\"DejaVuSans-72\" d=\"M 2631 2963 \nQ 2534 3019 2420 3045 \nQ 2306 3072 2169 3072 \nQ 1681 3072 1420 2755 \nQ 1159 2438 1159 1844 \nL 1159 0 \nL 581 0 \nL 581 3500 \nL 1159 3500 \nL 1159 2956 \nQ 1341 3275 1631 3429 \nQ 1922 3584 2338 3584 \nQ 2397 3584 2469 3576 \nQ 2541 3569 2628 3553 \nL 2631 2963 \nz\n\" transform=\"scale(0.015625)\"/>\n       <path id=\"DejaVuSans-61\" d=\"M 2194 1759 \nQ 1497 1759 1228 1600 \nQ 959 1441 959 1056 \nQ 959 750 1161 570 \nQ 1363 391 1709 391 \nQ 2188 391 2477 730 \nQ 2766 1069 2766 1631 \nL 2766 1759 \nL 2194 1759 \nz\nM 3341 1997 \nL 3341 0 \nL 2766 0 \nL 2766 531 \nQ 2569 213 2275 61 \nQ 1981 -91 1556 -91 \nQ 1019 -91 701 211 \nQ 384 513 384 1019 \nQ 384 1609 779 1909 \nQ 1175 2209 1959 2209 \nL 2766 2209 \nL 2766 2266 \nQ 2766 2663 2505 2880 \nQ 2244 3097 1772 3097 \nQ 1472 3097 1187 3025 \nQ 903 2953 641 2809 \nL 641 3341 \nQ 956 3463 1253 3523 \nQ 1550 3584 1831 3584 \nQ 2591 3584 2966 3190 \nQ 3341 2797 3341 1997 \nz\n\" transform=\"scale(0.015625)\"/>\n       <path id=\"DejaVuSans-69\" d=\"M 603 3500 \nL 1178 3500 \nL 1178 0 \nL 603 0 \nL 603 3500 \nz\nM 603 4863 \nL 1178 4863 \nL 1178 4134 \nL 603 4134 \nL 603 4863 \nz\n\" transform=\"scale(0.015625)\"/>\n       <path id=\"DejaVuSans-6e\" d=\"M 3513 2113 \nL 3513 0 \nL 2938 0 \nL 2938 2094 \nQ 2938 2591 2744 2837 \nQ 2550 3084 2163 3084 \nQ 1697 3084 1428 2787 \nQ 1159 2491 1159 1978 \nL 1159 0 \nL 581 0 \nL 581 3500 \nL 1159 3500 \nL 1159 2956 \nQ 1366 3272 1645 3428 \nQ 1925 3584 2291 3584 \nQ 2894 3584 3203 3211 \nQ 3513 2838 3513 2113 \nz\n\" transform=\"scale(0.015625)\"/>\n       <path id=\"DejaVuSans-20\" transform=\"scale(0.015625)\"/>\n       <path id=\"DejaVuSans-6c\" d=\"M 603 4863 \nL 1178 4863 \nL 1178 0 \nL 603 0 \nL 603 4863 \nz\n\" transform=\"scale(0.015625)\"/>\n       <path id=\"DejaVuSans-73\" d=\"M 2834 3397 \nL 2834 2853 \nQ 2591 2978 2328 3040 \nQ 2066 3103 1784 3103 \nQ 1356 3103 1142 2972 \nQ 928 2841 928 2578 \nQ 928 2378 1081 2264 \nQ 1234 2150 1697 2047 \nL 1894 2003 \nQ 2506 1872 2764 1633 \nQ 3022 1394 3022 966 \nQ 3022 478 2636 193 \nQ 2250 -91 1575 -91 \nQ 1294 -91 989 -36 \nQ 684 19 347 128 \nL 347 722 \nQ 666 556 975 473 \nQ 1284 391 1588 391 \nQ 1994 391 2212 530 \nQ 2431 669 2431 922 \nQ 2431 1156 2273 1281 \nQ 2116 1406 1581 1522 \nL 1381 1569 \nQ 847 1681 609 1914 \nQ 372 2147 372 2553 \nQ 372 3047 722 3315 \nQ 1072 3584 1716 3584 \nQ 2034 3584 2315 3537 \nQ 2597 3491 2834 3397 \nz\n\" transform=\"scale(0.015625)\"/>\n      </defs>\n      <use xlink:href=\"#DejaVuSans-74\"/>\n      <use xlink:href=\"#DejaVuSans-72\" x=\"39.208984\"/>\n      <use xlink:href=\"#DejaVuSans-61\" x=\"80.322266\"/>\n      <use xlink:href=\"#DejaVuSans-69\" x=\"141.601562\"/>\n      <use xlink:href=\"#DejaVuSans-6e\" x=\"169.384766\"/>\n      <use xlink:href=\"#DejaVuSans-20\" x=\"232.763672\"/>\n      <use xlink:href=\"#DejaVuSans-6c\" x=\"264.550781\"/>\n      <use xlink:href=\"#DejaVuSans-6f\" x=\"292.333984\"/>\n      <use xlink:href=\"#DejaVuSans-73\" x=\"353.515625\"/>\n      <use xlink:href=\"#DejaVuSans-73\" x=\"405.615234\"/>\n     </g>\n    </g>\n    <g id=\"line2d_25\">\n     <path d=\"M 39.103125 78.208594 \nL 49.103125 78.208594 \nL 59.103125 78.208594 \n\" style=\"fill: none; stroke-dasharray: 5.55,2.4; stroke-dashoffset: 0; stroke: #bf00bf; stroke-width: 1.5\"/>\n    </g>\n    <g id=\"text_13\">\n     <!-- train acc -->\n     <g transform=\"translate(67.103125 81.708594)scale(0.1 -0.1)\">\n      <use xlink:href=\"#DejaVuSans-74\"/>\n      <use xlink:href=\"#DejaVuSans-72\" x=\"39.208984\"/>\n      <use xlink:href=\"#DejaVuSans-61\" x=\"80.322266\"/>\n      <use xlink:href=\"#DejaVuSans-69\" x=\"141.601562\"/>\n      <use xlink:href=\"#DejaVuSans-6e\" x=\"169.384766\"/>\n      <use xlink:href=\"#DejaVuSans-20\" x=\"232.763672\"/>\n      <use xlink:href=\"#DejaVuSans-61\" x=\"264.550781\"/>\n      <use xlink:href=\"#DejaVuSans-63\" x=\"325.830078\"/>\n      <use xlink:href=\"#DejaVuSans-63\" x=\"380.810547\"/>\n     </g>\n    </g>\n    <g id=\"line2d_26\">\n     <path d=\"M 39.103125 92.886719 \nL 49.103125 92.886719 \nL 59.103125 92.886719 \n\" style=\"fill: none; stroke-dasharray: 9.6,2.4,1.5,2.4; stroke-dashoffset: 0; stroke: #008000; stroke-width: 1.5\"/>\n    </g>\n    <g id=\"text_14\">\n     <!-- test acc -->\n     <g transform=\"translate(67.103125 96.386719)scale(0.1 -0.1)\">\n      <use xlink:href=\"#DejaVuSans-74\"/>\n      <use xlink:href=\"#DejaVuSans-65\" x=\"39.208984\"/>\n      <use xlink:href=\"#DejaVuSans-73\" x=\"100.732422\"/>\n      <use xlink:href=\"#DejaVuSans-74\" x=\"152.832031\"/>\n      <use xlink:href=\"#DejaVuSans-20\" x=\"192.041016\"/>\n      <use xlink:href=\"#DejaVuSans-61\" x=\"223.828125\"/>\n      <use xlink:href=\"#DejaVuSans-63\" x=\"285.107422\"/>\n      <use xlink:href=\"#DejaVuSans-63\" x=\"340.087891\"/>\n     </g>\n    </g>\n   </g>\n  </g>\n </g>\n <defs>\n  <clipPath id=\"p760dec1163\">\n   <rect x=\"30.103125\" y=\"10.999219\" width=\"195.3\" height=\"135.9\"/>\n  </clipPath>\n </defs>\n</svg>\n",
      "text/plain": [
       "<Figure size 252x180 with 1 Axes>"
      ]
     },
     "metadata": {
      "needs_background": "light"
     },
     "output_type": "display_data"
    }
   ],
   "source": [
    "num_epochs = 20\n",
    "train_softmax(net, train_iter, test_iter, loss, num_epochs, trainer)"
   ]
  },
  {
   "cell_type": "markdown",
   "metadata": {},
   "source": [
    "### 使用模型进行预测"
   ]
  },
  {
   "cell_type": "code",
   "execution_count": 40,
   "metadata": {},
   "outputs": [],
   "source": [
    "def get_mnist_labels(labels):\n",
    "    \"\"\"返回MNIST数据集的文本标签\"\"\"\n",
    "    return [str(int(i)) for i in labels]"
   ]
  },
  {
   "cell_type": "code",
   "execution_count": 41,
   "metadata": {},
   "outputs": [],
   "source": [
    "def show_images(imgs, num_rows, num_cols, titles=None, scale=1.5):\n",
    "    \"\"\"绘制图像列表\"\"\"\n",
    "    figsize = (num_cols * scale, num_rows * scale)\n",
    "    _, axes = plt.subplots(num_rows, num_cols, figsize=figsize)\n",
    "    axes = axes.flatten()\n",
    "    for i, (ax, img) in enumerate(zip(axes, imgs)):\n",
    "        if torch.is_tensor(img):\n",
    "            # 图片张量\n",
    "            ax.imshow(img.numpy())\n",
    "        else:\n",
    "            # PIL图片\n",
    "            ax.imshow(img)\n",
    "        ax.axes.get_xaxis().set_visible(False)\n",
    "        ax.axes.get_yaxis().set_visible(False)\n",
    "        if titles:\n",
    "            ax.set_title(titles[i])\n",
    "    return axes"
   ]
  },
  {
   "cell_type": "code",
   "execution_count": 42,
   "metadata": {},
   "outputs": [
    {
     "data": {
      "image/svg+xml": "<?xml version=\"1.0\" encoding=\"utf-8\" standalone=\"no\"?>\n<!DOCTYPE svg PUBLIC \"-//W3C//DTD SVG 1.1//EN\"\n  \"http://www.w3.org/Graphics/SVG/1.1/DTD/svg11.dtd\">\n<svg xmlns:xlink=\"http://www.w3.org/1999/xlink\" width=\"520.1pt\" height=\"118.198357pt\" viewBox=\"0 0 520.1 118.198357\" xmlns=\"http://www.w3.org/2000/svg\" version=\"1.1\">\n <metadata>\n  <rdf:RDF xmlns:dc=\"http://purl.org/dc/elements/1.1/\" xmlns:cc=\"http://creativecommons.org/ns#\" xmlns:rdf=\"http://www.w3.org/1999/02/22-rdf-syntax-ns#\">\n   <cc:Work>\n    <dc:type rdf:resource=\"http://purl.org/dc/dcmitype/StillImage\"/>\n    <dc:date>2022-09-18T19:12:07.614593</dc:date>\n    <dc:format>image/svg+xml</dc:format>\n    <dc:creator>\n     <cc:Agent>\n      <dc:title>Matplotlib v3.5.1, https://matplotlib.org/</dc:title>\n     </cc:Agent>\n    </dc:creator>\n   </cc:Work>\n  </rdf:RDF>\n </metadata>\n <defs>\n  <style type=\"text/css\">*{stroke-linejoin: round; stroke-linecap: butt}</style>\n </defs>\n <g id=\"figure_1\">\n  <g id=\"patch_1\">\n   <path d=\"M 0 118.198357 \nL 520.1 118.198357 \nL 520.1 0 \nL 0 0 \nL 0 118.198357 \nz\n\" style=\"fill: none\"/>\n  </g>\n  <g id=\"axes_1\">\n   <g id=\"patch_2\">\n    <path d=\"M 10.7 107.498357 \nL 82.442857 107.498357 \nL 82.442857 35.7555 \nL 10.7 35.7555 \nz\n\" style=\"fill: #ffffff\"/>\n   </g>\n   <g clip-path=\"url(#p43fc9572e2)\">\n    <image xlink:href=\"data:image/png;base64,\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\" id=\"imagec5e86791ac\" transform=\"scale(1 -1)translate(0 -72)\" x=\"10.7\" y=\"-35.498357\" width=\"72\" height=\"72\"/>\n   </g>\n   <g id=\"patch_3\">\n    <path d=\"M 10.7 107.498357 \nL 10.7 35.7555 \n\" style=\"fill: none; stroke: #000000; stroke-width: 0.8; stroke-linejoin: miter; stroke-linecap: square\"/>\n   </g>\n   <g id=\"patch_4\">\n    <path d=\"M 82.442857 107.498357 \nL 82.442857 35.7555 \n\" style=\"fill: none; stroke: #000000; stroke-width: 0.8; stroke-linejoin: miter; stroke-linecap: square\"/>\n   </g>\n   <g id=\"patch_5\">\n    <path d=\"M 10.7 107.498357 \nL 82.442857 107.498357 \n\" style=\"fill: none; stroke: #000000; stroke-width: 0.8; stroke-linejoin: miter; stroke-linecap: square\"/>\n   </g>\n   <g id=\"patch_6\">\n    <path d=\"M 10.7 35.7555 \nL 82.442857 35.7555 \n\" style=\"fill: none; stroke: #000000; stroke-width: 0.8; stroke-linejoin: miter; stroke-linecap: square\"/>\n   </g>\n   <g id=\"text_1\">\n    <!-- 7 -->\n    <g transform=\"translate(42.753929 16.318125)scale(0.12 -0.12)\">\n     <defs>\n      <path id=\"DejaVuSans-37\" d=\"M 525 4666 \nL 3525 4666 \nL 3525 4397 \nL 1831 0 \nL 1172 0 \nL 2766 4134 \nL 525 4134 \nL 525 4666 \nz\n\" transform=\"scale(0.015625)\"/>\n     </defs>\n     <use xlink:href=\"#DejaVuSans-37\"/>\n    </g>\n    <!-- 7 -->\n    <g transform=\"translate(42.753929 29.7555)scale(0.12 -0.12)\">\n     <use xlink:href=\"#DejaVuSans-37\"/>\n    </g>\n   </g>\n  </g>\n  <g id=\"axes_2\">\n   <g id=\"patch_7\">\n    <path d=\"M 96.791429 107.498357 \nL 168.534286 107.498357 \nL 168.534286 35.7555 \nL 96.791429 35.7555 \nz\n\" style=\"fill: #ffffff\"/>\n   </g>\n   <g clip-path=\"url(#p880e5b2120)\">\n    <image xlink:href=\"data:image/png;base64,\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\" id=\"image062828409e\" transform=\"scale(1 -1)translate(0 -72)\" x=\"96.791429\" y=\"-35.498357\" width=\"72\" height=\"72\"/>\n   </g>\n   <g id=\"patch_8\">\n    <path d=\"M 96.791429 107.498357 \nL 96.791429 35.7555 \n\" style=\"fill: none; stroke: #000000; stroke-width: 0.8; stroke-linejoin: miter; stroke-linecap: square\"/>\n   </g>\n   <g id=\"patch_9\">\n    <path d=\"M 168.534286 107.498357 \nL 168.534286 35.7555 \n\" style=\"fill: none; stroke: #000000; stroke-width: 0.8; stroke-linejoin: miter; stroke-linecap: square\"/>\n   </g>\n   <g id=\"patch_10\">\n    <path d=\"M 96.791429 107.498357 \nL 168.534286 107.498357 \n\" style=\"fill: none; stroke: #000000; stroke-width: 0.8; stroke-linejoin: miter; stroke-linecap: square\"/>\n   </g>\n   <g id=\"patch_11\">\n    <path d=\"M 96.791429 35.7555 \nL 168.534286 35.7555 \n\" style=\"fill: none; stroke: #000000; stroke-width: 0.8; stroke-linejoin: miter; stroke-linecap: square\"/>\n   </g>\n   <g id=\"text_2\">\n    <!-- 2 -->\n    <g transform=\"translate(128.845357 16.318125)scale(0.12 -0.12)\">\n     <defs>\n      <path id=\"DejaVuSans-32\" d=\"M 1228 531 \nL 3431 531 \nL 3431 0 \nL 469 0 \nL 469 531 \nQ 828 903 1448 1529 \nQ 2069 2156 2228 2338 \nQ 2531 2678 2651 2914 \nQ 2772 3150 2772 3378 \nQ 2772 3750 2511 3984 \nQ 2250 4219 1831 4219 \nQ 1534 4219 1204 4116 \nQ 875 4013 500 3803 \nL 500 4441 \nQ 881 4594 1212 4672 \nQ 1544 4750 1819 4750 \nQ 2544 4750 2975 4387 \nQ 3406 4025 3406 3419 \nQ 3406 3131 3298 2873 \nQ 3191 2616 2906 2266 \nQ 2828 2175 2409 1742 \nQ 1991 1309 1228 531 \nz\n\" transform=\"scale(0.015625)\"/>\n     </defs>\n     <use xlink:href=\"#DejaVuSans-32\"/>\n    </g>\n    <!-- 2 -->\n    <g transform=\"translate(128.845357 29.7555)scale(0.12 -0.12)\">\n     <use xlink:href=\"#DejaVuSans-32\"/>\n    </g>\n   </g>\n  </g>\n  <g id=\"axes_3\">\n   <g id=\"patch_12\">\n    <path d=\"M 182.882857 107.498357 \nL 254.625714 107.498357 \nL 254.625714 35.7555 \nL 182.882857 35.7555 \nz\n\" style=\"fill: #ffffff\"/>\n   </g>\n   <g clip-path=\"url(#p67e36d403b)\">\n    <image xlink:href=\"data:image/png;base64,\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\" id=\"image2ff526837b\" transform=\"scale(1 -1)translate(0 -72)\" x=\"182.882857\" y=\"-35.498357\" width=\"72\" height=\"72\"/>\n   </g>\n   <g id=\"patch_13\">\n    <path d=\"M 182.882857 107.498357 \nL 182.882857 35.7555 \n\" style=\"fill: none; stroke: #000000; stroke-width: 0.8; stroke-linejoin: miter; stroke-linecap: square\"/>\n   </g>\n   <g id=\"patch_14\">\n    <path d=\"M 254.625714 107.498357 \nL 254.625714 35.7555 \n\" style=\"fill: none; stroke: #000000; stroke-width: 0.8; stroke-linejoin: miter; stroke-linecap: square\"/>\n   </g>\n   <g id=\"patch_15\">\n    <path d=\"M 182.882857 107.498357 \nL 254.625714 107.498357 \n\" style=\"fill: none; stroke: #000000; stroke-width: 0.8; stroke-linejoin: miter; stroke-linecap: square\"/>\n   </g>\n   <g id=\"patch_16\">\n    <path d=\"M 182.882857 35.7555 \nL 254.625714 35.7555 \n\" style=\"fill: none; stroke: #000000; stroke-width: 0.8; stroke-linejoin: miter; stroke-linecap: square\"/>\n   </g>\n   <g id=\"text_3\">\n    <!-- 1 -->\n    <g transform=\"translate(214.936786 16.318125)scale(0.12 -0.12)\">\n     <defs>\n      <path id=\"DejaVuSans-31\" d=\"M 794 531 \nL 1825 531 \nL 1825 4091 \nL 703 3866 \nL 703 4441 \nL 1819 4666 \nL 2450 4666 \nL 2450 531 \nL 3481 531 \nL 3481 0 \nL 794 0 \nL 794 531 \nz\n\" transform=\"scale(0.015625)\"/>\n     </defs>\n     <use xlink:href=\"#DejaVuSans-31\"/>\n    </g>\n    <!-- 1 -->\n    <g transform=\"translate(214.936786 29.7555)scale(0.12 -0.12)\">\n     <use xlink:href=\"#DejaVuSans-31\"/>\n    </g>\n   </g>\n  </g>\n  <g id=\"axes_4\">\n   <g id=\"patch_17\">\n    <path d=\"M 268.974286 107.498357 \nL 340.717143 107.498357 \nL 340.717143 35.7555 \nL 268.974286 35.7555 \nz\n\" style=\"fill: #ffffff\"/>\n   </g>\n   <g clip-path=\"url(#pca42a7a812)\">\n    <image xlink:href=\"data:image/png;base64,\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\" id=\"image6b4ad08be7\" transform=\"scale(1 -1)translate(0 -72)\" x=\"268.974286\" y=\"-35.498357\" width=\"72\" height=\"72\"/>\n   </g>\n   <g id=\"patch_18\">\n    <path d=\"M 268.974286 107.498357 \nL 268.974286 35.7555 \n\" style=\"fill: none; stroke: #000000; stroke-width: 0.8; stroke-linejoin: miter; stroke-linecap: square\"/>\n   </g>\n   <g id=\"patch_19\">\n    <path d=\"M 340.717143 107.498357 \nL 340.717143 35.7555 \n\" style=\"fill: none; stroke: #000000; stroke-width: 0.8; stroke-linejoin: miter; stroke-linecap: square\"/>\n   </g>\n   <g id=\"patch_20\">\n    <path d=\"M 268.974286 107.498357 \nL 340.717143 107.498357 \n\" style=\"fill: none; stroke: #000000; stroke-width: 0.8; stroke-linejoin: miter; stroke-linecap: square\"/>\n   </g>\n   <g id=\"patch_21\">\n    <path d=\"M 268.974286 35.7555 \nL 340.717143 35.7555 \n\" style=\"fill: none; stroke: #000000; stroke-width: 0.8; stroke-linejoin: miter; stroke-linecap: square\"/>\n   </g>\n   <g id=\"text_4\">\n    <!-- 0 -->\n    <g transform=\"translate(301.028214 16.318125)scale(0.12 -0.12)\">\n     <defs>\n      <path id=\"DejaVuSans-30\" d=\"M 2034 4250 \nQ 1547 4250 1301 3770 \nQ 1056 3291 1056 2328 \nQ 1056 1369 1301 889 \nQ 1547 409 2034 409 \nQ 2525 409 2770 889 \nQ 3016 1369 3016 2328 \nQ 3016 3291 2770 3770 \nQ 2525 4250 2034 4250 \nz\nM 2034 4750 \nQ 2819 4750 3233 4129 \nQ 3647 3509 3647 2328 \nQ 3647 1150 3233 529 \nQ 2819 -91 2034 -91 \nQ 1250 -91 836 529 \nQ 422 1150 422 2328 \nQ 422 3509 836 4129 \nQ 1250 4750 2034 4750 \nz\n\" transform=\"scale(0.015625)\"/>\n     </defs>\n     <use xlink:href=\"#DejaVuSans-30\"/>\n    </g>\n    <!-- 0 -->\n    <g transform=\"translate(301.028214 29.7555)scale(0.12 -0.12)\">\n     <use xlink:href=\"#DejaVuSans-30\"/>\n    </g>\n   </g>\n  </g>\n  <g id=\"axes_5\">\n   <g id=\"patch_22\">\n    <path d=\"M 355.065714 107.498357 \nL 426.808571 107.498357 \nL 426.808571 35.7555 \nL 355.065714 35.7555 \nz\n\" style=\"fill: #ffffff\"/>\n   </g>\n   <g clip-path=\"url(#p6d7b77cab9)\">\n    <image xlink:href=\"data:image/png;base64,\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\" id=\"image929400b915\" transform=\"scale(1 -1)translate(0 -72)\" x=\"355.065714\" y=\"-35.498357\" width=\"72\" height=\"72\"/>\n   </g>\n   <g id=\"patch_23\">\n    <path d=\"M 355.065714 107.498357 \nL 355.065714 35.7555 \n\" style=\"fill: none; stroke: #000000; stroke-width: 0.8; stroke-linejoin: miter; stroke-linecap: square\"/>\n   </g>\n   <g id=\"patch_24\">\n    <path d=\"M 426.808571 107.498357 \nL 426.808571 35.7555 \n\" style=\"fill: none; stroke: #000000; stroke-width: 0.8; stroke-linejoin: miter; stroke-linecap: square\"/>\n   </g>\n   <g id=\"patch_25\">\n    <path d=\"M 355.065714 107.498357 \nL 426.808571 107.498357 \n\" style=\"fill: none; stroke: #000000; stroke-width: 0.8; stroke-linejoin: miter; stroke-linecap: square\"/>\n   </g>\n   <g id=\"patch_26\">\n    <path d=\"M 355.065714 35.7555 \nL 426.808571 35.7555 \n\" style=\"fill: none; stroke: #000000; stroke-width: 0.8; stroke-linejoin: miter; stroke-linecap: square\"/>\n   </g>\n   <g id=\"text_5\">\n    <!-- 4 -->\n    <g transform=\"translate(387.119643 16.318125)scale(0.12 -0.12)\">\n     <defs>\n      <path id=\"DejaVuSans-34\" d=\"M 2419 4116 \nL 825 1625 \nL 2419 1625 \nL 2419 4116 \nz\nM 2253 4666 \nL 3047 4666 \nL 3047 1625 \nL 3713 1625 \nL 3713 1100 \nL 3047 1100 \nL 3047 0 \nL 2419 0 \nL 2419 1100 \nL 313 1100 \nL 313 1709 \nL 2253 4666 \nz\n\" transform=\"scale(0.015625)\"/>\n     </defs>\n     <use xlink:href=\"#DejaVuSans-34\"/>\n    </g>\n    <!-- 4 -->\n    <g transform=\"translate(387.119643 29.7555)scale(0.12 -0.12)\">\n     <use xlink:href=\"#DejaVuSans-34\"/>\n    </g>\n   </g>\n  </g>\n  <g id=\"axes_6\">\n   <g id=\"patch_27\">\n    <path d=\"M 441.157143 107.498357 \nL 512.9 107.498357 \nL 512.9 35.7555 \nL 441.157143 35.7555 \nz\n\" style=\"fill: #ffffff\"/>\n   </g>\n   <g clip-path=\"url(#pdb8a8d1217)\">\n    <image xlink:href=\"data:image/png;base64,\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\" id=\"imagedb0ce02b00\" transform=\"scale(1 -1)translate(0 -72)\" x=\"441.157143\" y=\"-35.498357\" width=\"72\" height=\"72\"/>\n   </g>\n   <g id=\"patch_28\">\n    <path d=\"M 441.157143 107.498357 \nL 441.157143 35.7555 \n\" style=\"fill: none; stroke: #000000; stroke-width: 0.8; stroke-linejoin: miter; stroke-linecap: square\"/>\n   </g>\n   <g id=\"patch_29\">\n    <path d=\"M 512.9 107.498357 \nL 512.9 35.7555 \n\" style=\"fill: none; stroke: #000000; stroke-width: 0.8; stroke-linejoin: miter; stroke-linecap: square\"/>\n   </g>\n   <g id=\"patch_30\">\n    <path d=\"M 441.157143 107.498357 \nL 512.9 107.498357 \n\" style=\"fill: none; stroke: #000000; stroke-width: 0.8; stroke-linejoin: miter; stroke-linecap: square\"/>\n   </g>\n   <g id=\"patch_31\">\n    <path d=\"M 441.157143 35.7555 \nL 512.9 35.7555 \n\" style=\"fill: none; stroke: #000000; stroke-width: 0.8; stroke-linejoin: miter; stroke-linecap: square\"/>\n   </g>\n   <g id=\"text_6\">\n    <!-- 1 -->\n    <g transform=\"translate(473.211071 16.318125)scale(0.12 -0.12)\">\n     <use xlink:href=\"#DejaVuSans-31\"/>\n    </g>\n    <!-- 1 -->\n    <g transform=\"translate(473.211071 29.7555)scale(0.12 -0.12)\">\n     <use xlink:href=\"#DejaVuSans-31\"/>\n    </g>\n   </g>\n  </g>\n </g>\n <defs>\n  <clipPath id=\"p43fc9572e2\">\n   <rect x=\"10.7\" y=\"35.7555\" width=\"71.742857\" height=\"71.742857\"/>\n  </clipPath>\n  <clipPath id=\"p880e5b2120\">\n   <rect x=\"96.791429\" y=\"35.7555\" width=\"71.742857\" height=\"71.742857\"/>\n  </clipPath>\n  <clipPath id=\"p67e36d403b\">\n   <rect x=\"182.882857\" y=\"35.7555\" width=\"71.742857\" height=\"71.742857\"/>\n  </clipPath>\n  <clipPath id=\"pca42a7a812\">\n   <rect x=\"268.974286\" y=\"35.7555\" width=\"71.742857\" height=\"71.742857\"/>\n  </clipPath>\n  <clipPath id=\"p6d7b77cab9\">\n   <rect x=\"355.065714\" y=\"35.7555\" width=\"71.742857\" height=\"71.742857\"/>\n  </clipPath>\n  <clipPath id=\"pdb8a8d1217\">\n   <rect x=\"441.157143\" y=\"35.7555\" width=\"71.742857\" height=\"71.742857\"/>\n  </clipPath>\n </defs>\n</svg>\n",
      "text/plain": [
       "<Figure size 648x108 with 6 Axes>"
      ]
     },
     "metadata": {
      "needs_background": "light"
     },
     "output_type": "display_data"
    }
   ],
   "source": [
    "def predicet_minst(net, test_iter, n=6):\n",
    "    for X, y in test_iter:\n",
    "        break\n",
    "    trues = get_mnist_labels(y)\n",
    "    preds = get_mnist_labels(net(X).argmax(axis=1))\n",
    "    titles = [true +'\\n' + pred for true, pred in zip(trues, preds)]\n",
    "    show_images(\n",
    "        X[0:n].reshape((n, 28, 28)), 1, n, titles=titles[0:n])\n",
    "\n",
    "predicet_minst(net, test_iter)"
   ]
  }
 ],
 "metadata": {
  "kernelspec": {
   "display_name": "Python 3.10.5 64-bit",
   "language": "python",
   "name": "python3"
  },
  "language_info": {
   "codemirror_mode": {
    "name": "ipython",
    "version": 3
   },
   "file_extension": ".py",
   "mimetype": "text/x-python",
   "name": "python",
   "nbconvert_exporter": "python",
   "pygments_lexer": "ipython3",
   "version": "3.10.5"
  },
  "orig_nbformat": 4,
  "vscode": {
   "interpreter": {
    "hash": "719d1ba2a56933e3225a4ce5a6b623ad0990912c1a8e177d0a4cf9de383c4ff3"
   }
  }
 },
 "nbformat": 4,
 "nbformat_minor": 2
}
