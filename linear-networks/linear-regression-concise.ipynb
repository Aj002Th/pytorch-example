{
 "cells": [
  {
   "cell_type": "markdown",
   "metadata": {},
   "source": [
    "### 线性回归的简洁实现\n",
    "例子：用线性回归模型拟合带有服从-0.5 到 0.5 的均匀分布噪声的正弦函数"
   ]
  },
  {
   "cell_type": "code",
   "execution_count": 61,
   "metadata": {},
   "outputs": [],
   "source": [
    "import numpy as np\n",
    "from matplotlib import pyplot as plt\n",
    "import torch\n",
    "from torch.utils import data\n",
    "from torch import nn"
   ]
  },
  {
   "cell_type": "markdown",
   "metadata": {},
   "source": [
    "生成数据集: 正弦函数+随机噪声"
   ]
  },
  {
   "cell_type": "code",
   "execution_count": 62,
   "metadata": {},
   "outputs": [],
   "source": [
    "num_observations = 100\n",
    "x = np.linspace(-3, 3, num_observations)\n",
    "y = np.sin(x) + np.random.uniform(-0.5, 0.5, num_observations)"
   ]
  },
  {
   "cell_type": "markdown",
   "metadata": {},
   "source": [
    "构建数据迭代器"
   ]
  },
  {
   "cell_type": "code",
   "execution_count": 63,
   "metadata": {},
   "outputs": [],
   "source": [
    "def load_array(data_arrays, batch_size, is_train=True):\n",
    "    dataset = data.TensorDataset(*data_arrays)\n",
    "    return data.DataLoader(dataset, batch_size, shuffle=is_train)"
   ]
  },
  {
   "cell_type": "markdown",
   "metadata": {},
   "source": [
    "简单处理原始数据, 初始化数据迭代器"
   ]
  },
  {
   "cell_type": "code",
   "execution_count": 64,
   "metadata": {},
   "outputs": [],
   "source": [
    "batch_size = 10\n",
    "features = torch.from_numpy(x).type(torch.float32).reshape(-1, 1)\n",
    "labels = torch.from_numpy(y).type(torch.float32).reshape(-1, 1)\n",
    "\n",
    "data_iter = load_array((features, labels), batch_size)"
   ]
  },
  {
   "cell_type": "code",
   "execution_count": 65,
   "metadata": {},
   "outputs": [
    {
     "data": {
      "text/plain": [
       "[tensor([[-2.5152],\n",
       "         [ 2.3939],\n",
       "         [ 1.2424],\n",
       "         [-0.5152],\n",
       "         [ 1.6667],\n",
       "         [ 2.5758],\n",
       "         [-0.3939],\n",
       "         [ 1.8485],\n",
       "         [ 0.6364],\n",
       "         [ 0.0909]]),\n",
       " tensor([[-0.6717],\n",
       "         [ 0.3632],\n",
       "         [ 1.0844],\n",
       "         [-0.1079],\n",
       "         [ 1.2082],\n",
       "         [ 0.1642],\n",
       "         [-0.1016],\n",
       "         [ 0.6608],\n",
       "         [ 0.5274],\n",
       "         [-0.3599]])]"
      ]
     },
     "execution_count": 65,
     "metadata": {},
     "output_type": "execute_result"
    }
   ],
   "source": [
    "next(iter(data_iter))"
   ]
  },
  {
   "cell_type": "markdown",
   "metadata": {},
   "source": [
    "定义模型  \n",
    "用框架中提前准备好的构件很方便"
   ]
  },
  {
   "cell_type": "code",
   "execution_count": 66,
   "metadata": {},
   "outputs": [],
   "source": [
    "net = nn.Sequential(nn.Linear(1,1))"
   ]
  },
  {
   "cell_type": "markdown",
   "metadata": {},
   "source": [
    "初始化模型参数"
   ]
  },
  {
   "cell_type": "code",
   "execution_count": 67,
   "metadata": {},
   "outputs": [
    {
     "data": {
      "text/plain": [
       "tensor([0.])"
      ]
     },
     "execution_count": 67,
     "metadata": {},
     "output_type": "execute_result"
    }
   ],
   "source": [
    "net[0].weight.data.normal_(0, 0.01)\n",
    "net[0].bias.data.fill_(0)"
   ]
  },
  {
   "cell_type": "markdown",
   "metadata": {},
   "source": [
    "定义损失函数"
   ]
  },
  {
   "cell_type": "code",
   "execution_count": 68,
   "metadata": {},
   "outputs": [],
   "source": [
    "loss = nn.MSELoss()"
   ]
  },
  {
   "cell_type": "markdown",
   "metadata": {},
   "source": [
    "定义优化方法"
   ]
  },
  {
   "cell_type": "code",
   "execution_count": 69,
   "metadata": {},
   "outputs": [],
   "source": [
    "trainer = torch.optim.SGD(net.parameters(), lr = 0.005)"
   ]
  },
  {
   "cell_type": "markdown",
   "metadata": {},
   "source": [
    "开始训练"
   ]
  },
  {
   "cell_type": "code",
   "execution_count": 70,
   "metadata": {},
   "outputs": [
    {
     "name": "stdout",
     "output_type": "stream",
     "text": [
      "epoch 1, loss 0.410211, w 0.07609143853187561, b 0.0010609857272356749\n",
      "epoch 2, loss 0.328852, w 0.140553817152977, b 0.001841965364292264\n",
      "epoch 3, loss 0.286138, w 0.18682065606117249, b 0.002513329265639186\n",
      "epoch 4, loss 0.262737, w 0.22145015001296997, b 0.0033595107961446047\n",
      "epoch 5, loss 0.250664, w 0.2458275705575943, b 0.0042422497645020485\n",
      "epoch 6, loss 0.244081, w 0.2638428807258606, b 0.004862793255597353\n",
      "epoch 7, loss 0.240476, w 0.27722442150115967, b 0.005570407956838608\n",
      "epoch 8, loss 0.238532, w 0.28701457381248474, b 0.006219091825187206\n",
      "epoch 9, loss 0.237396, w 0.2948859930038452, b 0.0066131604835391045\n",
      "epoch 10, loss 0.236933, w 0.2992115914821625, b 0.006881783716380596\n",
      "epoch 11, loss 0.236681, w 0.30217546224594116, b 0.007162690628319979\n",
      "epoch 12, loss 0.236518, w 0.3045808970928192, b 0.007145575247704983\n",
      "epoch 13, loss 0.236439, w 0.3059733808040619, b 0.0073704225942492485\n",
      "epoch 14, loss 0.236327, w 0.30846351385116577, b 0.0075760879553854465\n",
      "epoch 15, loss 0.236285, w 0.3096978962421417, b 0.007974868640303612\n",
      "epoch 16, loss 0.236252, w 0.31095650792121887, b 0.008154609240591526\n",
      "epoch 17, loss 0.236231, w 0.3121444582939148, b 0.008380994200706482\n",
      "epoch 18, loss 0.236234, w 0.31194743514060974, b 0.008341127075254917\n",
      "epoch 19, loss 0.236220, w 0.3129989504814148, b 0.008579160086810589\n",
      "epoch 20, loss 0.236228, w 0.3122491240501404, b 0.008830778300762177\n",
      "epoch 21, loss 0.236218, w 0.31318557262420654, b 0.008772427216172218\n",
      "epoch 22, loss 0.236215, w 0.31364595890045166, b 0.008873062208294868\n",
      "epoch 23, loss 0.236213, w 0.3149097263813019, b 0.008993098512291908\n",
      "epoch 24, loss 0.236217, w 0.31542980670928955, b 0.008481316268444061\n",
      "epoch 25, loss 0.236217, w 0.3154694139957428, b 0.008575902320444584\n",
      "epoch 26, loss 0.236219, w 0.31579044461250305, b 0.008655523881316185\n",
      "epoch 27, loss 0.236214, w 0.3146715462207794, b 0.008637676946818829\n",
      "epoch 28, loss 0.236214, w 0.3139282763004303, b 0.00861436128616333\n",
      "epoch 29, loss 0.236214, w 0.3144344985485077, b 0.00859107542783022\n",
      "epoch 30, loss 0.236217, w 0.3134078085422516, b 0.008871274068951607\n",
      "epoch 31, loss 0.236221, w 0.31283318996429443, b 0.008896303363144398\n",
      "epoch 32, loss 0.236213, w 0.31428319215774536, b 0.008785090409219265\n",
      "epoch 33, loss 0.236214, w 0.31488072872161865, b 0.008710631169378757\n",
      "epoch 34, loss 0.236215, w 0.3151613175868988, b 0.00860888697206974\n",
      "epoch 35, loss 0.236215, w 0.3151240348815918, b 0.008594206534326077\n",
      "epoch 36, loss 0.236214, w 0.3142031729221344, b 0.008670391514897346\n",
      "epoch 37, loss 0.236214, w 0.3141309916973114, b 0.00879552774131298\n",
      "epoch 38, loss 0.236213, w 0.3143543601036072, b 0.00885059218853712\n",
      "epoch 39, loss 0.236214, w 0.3138127624988556, b 0.00905569177120924\n",
      "epoch 40, loss 0.236213, w 0.31398382782936096, b 0.009197330102324486\n",
      "epoch 41, loss 0.236213, w 0.31433799862861633, b 0.009368831291794777\n",
      "epoch 42, loss 0.236213, w 0.31447485089302063, b 0.009216506034135818\n",
      "epoch 43, loss 0.236214, w 0.3138628304004669, b 0.009202519431710243\n",
      "epoch 44, loss 0.236216, w 0.3134872019290924, b 0.00933027546852827\n",
      "epoch 45, loss 0.236213, w 0.31443077325820923, b 0.009196284227073193\n",
      "epoch 46, loss 0.236216, w 0.313527375459671, b 0.009213938377797604\n",
      "epoch 47, loss 0.236213, w 0.3141974210739136, b 0.009236671030521393\n",
      "epoch 48, loss 0.236213, w 0.3144024610519409, b 0.009296356700360775\n",
      "epoch 49, loss 0.236223, w 0.31634628772735596, b 0.0096629923209548\n",
      "epoch 50, loss 0.236215, w 0.3153861463069916, b 0.009581230580806732\n",
      "epoch 51, loss 0.236213, w 0.314892053604126, b 0.009447761811316013\n",
      "epoch 52, loss 0.236213, w 0.31409329175949097, b 0.00960823055356741\n",
      "epoch 53, loss 0.236213, w 0.31417059898376465, b 0.009571637958288193\n",
      "epoch 54, loss 0.236213, w 0.3148311376571655, b 0.009758454747498035\n",
      "epoch 55, loss 0.236214, w 0.31500521302223206, b 0.009755481034517288\n",
      "epoch 56, loss 0.236215, w 0.3152971863746643, b 0.009625984355807304\n",
      "epoch 57, loss 0.236213, w 0.31486180424690247, b 0.009934710338711739\n",
      "epoch 58, loss 0.236215, w 0.31528446078300476, b 0.009741917252540588\n",
      "epoch 59, loss 0.236213, w 0.31459131836891174, b 0.00964211393147707\n",
      "epoch 60, loss 0.236217, w 0.3156852424144745, b 0.009744415059685707\n",
      "epoch 61, loss 0.236217, w 0.31571751832962036, b 0.009677776135504246\n",
      "epoch 62, loss 0.236226, w 0.3165957033634186, b 0.009609629400074482\n",
      "epoch 63, loss 0.236224, w 0.3164117634296417, b 0.00944291427731514\n",
      "epoch 64, loss 0.236241, w 0.3175433278083801, b 0.009364861994981766\n",
      "epoch 65, loss 0.236227, w 0.31665199995040894, b 0.009610289707779884\n",
      "epoch 66, loss 0.236213, w 0.3144017457962036, b 0.009724080562591553\n",
      "epoch 67, loss 0.236213, w 0.31439048051834106, b 0.00975833274424076\n",
      "epoch 68, loss 0.236218, w 0.31585821509361267, b 0.009544901549816132\n",
      "epoch 69, loss 0.236218, w 0.3157891631126404, b 0.009518823586404324\n",
      "epoch 70, loss 0.236223, w 0.3163081109523773, b 0.0094994455575943\n",
      "epoch 71, loss 0.236215, w 0.3153972029685974, b 0.00961783155798912\n",
      "epoch 72, loss 0.236219, w 0.31590738892555237, b 0.00977303832769394\n",
      "epoch 73, loss 0.236213, w 0.31496861577033997, b 0.009655705653131008\n",
      "epoch 74, loss 0.236218, w 0.31585031747817993, b 0.0096589969471097\n",
      "epoch 75, loss 0.236224, w 0.31642434000968933, b 0.009992359206080437\n",
      "epoch 76, loss 0.236220, w 0.31597936153411865, b 0.010105258785188198\n",
      "epoch 77, loss 0.236213, w 0.31439992785453796, b 0.009976486675441265\n",
      "epoch 78, loss 0.236217, w 0.3133603632450104, b 0.010039428249001503\n",
      "epoch 79, loss 0.236215, w 0.31364601850509644, b 0.009977332316339016\n",
      "epoch 80, loss 0.236213, w 0.3143698275089264, b 0.009758979082107544\n",
      "epoch 81, loss 0.236221, w 0.3128494620323181, b 0.009788625873625278\n",
      "epoch 82, loss 0.236217, w 0.31328245997428894, b 0.00984841026365757\n",
      "epoch 83, loss 0.236213, w 0.31426727771759033, b 0.009795903228223324\n",
      "epoch 84, loss 0.236215, w 0.31533128023147583, b 0.009745693765580654\n",
      "epoch 85, loss 0.236213, w 0.3145628571510315, b 0.00969741027802229\n",
      "epoch 86, loss 0.236217, w 0.31567052006721497, b 0.009707095101475716\n",
      "epoch 87, loss 0.236216, w 0.31554973125457764, b 0.00963672436773777\n",
      "epoch 88, loss 0.236214, w 0.3137233853340149, b 0.009693216532468796\n",
      "epoch 89, loss 0.236215, w 0.3135623037815094, b 0.009352544322609901\n",
      "epoch 90, loss 0.236217, w 0.31327375769615173, b 0.009390068240463734\n",
      "epoch 91, loss 0.236219, w 0.3129883408546448, b 0.0095896627753973\n",
      "epoch 92, loss 0.236214, w 0.3137942850589752, b 0.00948580913245678\n",
      "epoch 93, loss 0.236215, w 0.31368085741996765, b 0.009503820911049843\n",
      "epoch 94, loss 0.236213, w 0.31421446800231934, b 0.009636273607611656\n",
      "epoch 95, loss 0.236213, w 0.3142798840999603, b 0.009636390022933483\n",
      "epoch 96, loss 0.236213, w 0.3146308958530426, b 0.009488960728049278\n",
      "epoch 97, loss 0.236213, w 0.31416746973991394, b 0.009436738677322865\n",
      "epoch 98, loss 0.236213, w 0.31456172466278076, b 0.009403117001056671\n",
      "epoch 99, loss 0.236213, w 0.31469690799713135, b 0.009414778091013432\n",
      "epoch 100, loss 0.236213, w 0.3147128224372864, b 0.009223075583577156\n"
     ]
    }
   ],
   "source": [
    "num_epochs = 100\n",
    "for epoch in range(num_epochs):\n",
    "    for X, y in data_iter:\n",
    "        l = loss(net(X), y)\n",
    "        trainer.zero_grad()\n",
    "        l.backward()\n",
    "        trainer.step()\n",
    "    l = loss(net(features), labels)\n",
    "    print(f'epoch {epoch + 1}, loss {l:f}, w {net[0].weight.data[0, 0]}, b {net[0].bias.data[0]}')"
   ]
  },
  {
   "cell_type": "markdown",
   "metadata": {},
   "source": [
    "展示训练结果"
   ]
  },
  {
   "cell_type": "code",
   "execution_count": 71,
   "metadata": {},
   "outputs": [
    {
     "data": {
      "image/png": "[encoded data removed]",
      "text/plain": [
       "<Figure size 432x288 with 1 Axes>"
      ]
     },
     "metadata": {
      "needs_background": "light"
     },
     "output_type": "display_data"
    }
   ],
   "source": [
    "_y = net(features)\n",
    "plt.title(\"linear model\")\n",
    "plt.xlabel(\"x\")\n",
    "plt.ylabel(\"y\")\n",
    "plt.plot(features.numpy(), labels.numpy(), 'ob')\n",
    "plt.plot(features.numpy(), _y.detach().numpy(), 'r')\n",
    "plt.show()"
   ]
  }
 ],
 "metadata": {
  "kernelspec": {
   "display_name": "Python 3.10.5 64-bit",
   "language": "python",
   "name": "python3"
  },
  "language_info": {
   "codemirror_mode": {
    "name": "ipython",
    "version": 3
   },
   "file_extension": ".py",
   "mimetype": "text/x-python",
   "name": "python",
   "nbconvert_exporter": "python",
   "pygments_lexer": "ipython3",
   "version": "3.10.5"
  },
  "orig_nbformat": 4,
  "vscode": {
   "interpreter": {
    "hash": "719d1ba2a56933e3225a4ce5a6b623ad0990912c1a8e177d0a4cf9de383c4ff3"
   }
  }
 },
 "nbformat": 4,
 "nbformat_minor": 2
}
