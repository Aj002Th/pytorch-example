{
 "cells": [
  {
   "cell_type": "markdown",
   "metadata": {},
   "source": [
    "### 线性神经网络的从零实现\n",
    "例子：用线性回归模型拟合带有服从-0.5 到 0.5 的均匀分布噪声的正弦函数"
   ]
  },
  {
   "cell_type": "code",
   "execution_count": 230,
   "metadata": {},
   "outputs": [],
   "source": [
    "import numpy as np\n",
    "from matplotlib import pyplot as plt\n",
    "import torch\n",
    "import random"
   ]
  },
  {
   "cell_type": "markdown",
   "metadata": {},
   "source": [
    "生成数据集: 正弦函数+随机噪声"
   ]
  },
  {
   "cell_type": "code",
   "execution_count": 231,
   "metadata": {},
   "outputs": [],
   "source": [
    "num_observations = 100\n",
    "x = np.linspace(-3, 3, num_observations)\n",
    "y = np.sin(x) + np.random.uniform(-0.5, 0.5, num_observations)"
   ]
  },
  {
   "cell_type": "markdown",
   "metadata": {},
   "source": [
    "画出训练数据散点图"
   ]
  },
  {
   "cell_type": "code",
   "execution_count": 232,
   "metadata": {},
   "outputs": [
    {
     "data": {
      "image/png": "[encoded data removed]",
      "text/plain": [
       "<Figure size 432x288 with 1 Axes>"
      ]
     },
     "metadata": {
      "needs_background": "light"
     },
     "output_type": "display_data"
    }
   ],
   "source": [
    "plt.xlabel(\"x\")\n",
    "plt.ylabel(\"y\")\n",
    "plt.plot(x, y, \"ob\")\n",
    "plt.show()"
   ]
  },
  {
   "cell_type": "markdown",
   "metadata": {},
   "source": [
    "实现一个小批量读取数据集的迭代器  \n",
    "每 10 个数据随机取 1 个"
   ]
  },
  {
   "cell_type": "code",
   "execution_count": 233,
   "metadata": {},
   "outputs": [],
   "source": [
    "def data_iter(batch_size, features, labels):\n",
    "    num_examples = len(features)\n",
    "    indices = list(range(num_examples))\n",
    "    random.shuffle(indices)\n",
    "    for i in range(0, num_examples, batch_size):\n",
    "        batch_indices = torch.tensor(indices[i: min(i + batch_size, num_examples)])\n",
    "        yield features[batch_indices], labels[batch_indices]\n"
   ]
  },
  {
   "cell_type": "code",
   "execution_count": 234,
   "metadata": {},
   "outputs": [
    {
     "name": "stdout",
     "output_type": "stream",
     "text": [
      "tensor([[-2.2727],\n",
      "        [ 1.9091],\n",
      "        [ 0.0909],\n",
      "        [ 2.5758],\n",
      "        [-2.0303],\n",
      "        [-1.0000],\n",
      "        [ 2.3939],\n",
      "        [ 1.1818],\n",
      "        [ 0.1515],\n",
      "        [-2.6364]]) \n",
      " tensor([[-1.1310],\n",
      "        [ 1.4419],\n",
      "        [ 0.1782],\n",
      "        [ 0.7734],\n",
      "        [-1.1041],\n",
      "        [-0.4980],\n",
      "        [ 0.6712],\n",
      "        [ 0.4336],\n",
      "        [ 0.2011],\n",
      "        [-0.3118]])\n"
     ]
    }
   ],
   "source": [
    "batch_size = 10\n",
    "features = torch.from_numpy(x).type(torch.float32).reshape(-1, 1)\n",
    "labels = torch.from_numpy(y).type(torch.float32).reshape(-1, 1)\n",
    "\n",
    "for _X, _y in data_iter(batch_size, features, labels):\n",
    "    print(_X, '\\n', _y)\n",
    "    break"
   ]
  },
  {
   "cell_type": "markdown",
   "metadata": {},
   "source": [
    "初始化模型参数"
   ]
  },
  {
   "cell_type": "code",
   "execution_count": 235,
   "metadata": {},
   "outputs": [
    {
     "data": {
      "text/plain": [
       "(tensor([[1.]], requires_grad=True), tensor([0.], requires_grad=True))"
      ]
     },
     "execution_count": 235,
     "metadata": {},
     "output_type": "execute_result"
    }
   ],
   "source": [
    "w = torch.ones((1,1), requires_grad=True, dtype=torch.float32)\n",
    "b = torch.zeros(1, requires_grad=True, dtype=torch.float32)\n",
    "w, b"
   ]
  },
  {
   "cell_type": "markdown",
   "metadata": {},
   "source": [
    "定义模型"
   ]
  },
  {
   "cell_type": "code",
   "execution_count": 236,
   "metadata": {},
   "outputs": [],
   "source": [
    "def linreg(X, w, b):\n",
    "    \"\"\"线性回归模型\"\"\"\n",
    "    return torch.matmul(X, w) + b"
   ]
  },
  {
   "cell_type": "markdown",
   "metadata": {},
   "source": [
    "定义损失函数"
   ]
  },
  {
   "cell_type": "code",
   "execution_count": 237,
   "metadata": {},
   "outputs": [],
   "source": [
    "def squared_loss(y_hat, y):\n",
    "    \"\"\"均方损失\"\"\"\n",
    "    return (y_hat - y.reshape(y_hat.shape)) ** 2 / 2"
   ]
  },
  {
   "cell_type": "markdown",
   "metadata": {},
   "source": [
    "定义优化函数 SGD"
   ]
  },
  {
   "cell_type": "code",
   "execution_count": 238,
   "metadata": {},
   "outputs": [],
   "source": [
    "def sgd(params, lr, batch_size):\n",
    "    \"\"\"小批量随机梯度下降\"\"\"\n",
    "    with torch.no_grad():\n",
    "        for param in params:\n",
    "            param -= lr * param.grad / batch_size\n",
    "            param.grad.zero_()"
   ]
  },
  {
   "cell_type": "markdown",
   "metadata": {},
   "source": [
    "开始训练"
   ]
  },
  {
   "cell_type": "code",
   "execution_count": 239,
   "metadata": {},
   "outputs": [],
   "source": [
    "lr = 0.0001\n",
    "num_epochs = 100\n",
    "net = linreg\n",
    "loss = squared_loss"
   ]
  },
  {
   "cell_type": "code",
   "execution_count": 240,
   "metadata": {},
   "outputs": [
    {
     "name": "stdout",
     "output_type": "stream",
     "text": [
      "epoch 1, loss 1.053528, w 0.9966095089912415, b -5.746930037275888e-05\n",
      "epoch 2, loss 0.865971, w 0.9933732748031616, b -0.00011485163850011304\n",
      "epoch 3, loss 0.299636, w 0.9897872805595398, b -0.00017201804439537227\n",
      "epoch 4, loss 0.608841, w 0.9863275289535522, b -0.00022896076552569866\n",
      "epoch 5, loss 0.794063, w 0.9828867316246033, b -0.0002857569488696754\n",
      "epoch 6, loss 1.156037, w 0.9795156121253967, b -0.0003423540620133281\n",
      "epoch 7, loss 1.893879, w 0.9760686755180359, b -0.0003987944801338017\n",
      "epoch 8, loss 1.071298, w 0.9726402759552002, b -0.00045500913984142244\n",
      "epoch 9, loss 0.284232, w 0.9692593216896057, b -0.0005110726342536509\n",
      "epoch 10, loss 0.770757, w 0.9660803079605103, b -0.0005669227102771401\n",
      "epoch 11, loss 0.434272, w 0.962758481502533, b -0.0006226333789527416\n",
      "epoch 12, loss 0.659434, w 0.9591755867004395, b -0.0006781755946576595\n",
      "epoch 13, loss 0.916419, w 0.9559375047683716, b -0.0007335745031014085\n",
      "epoch 14, loss 0.929990, w 0.9525140523910522, b -0.0007887640967965126\n",
      "epoch 15, loss 0.880803, w 0.9490141272544861, b -0.0008437635842710733\n",
      "epoch 16, loss 1.071606, w 0.9458737373352051, b -0.0008985729655250907\n",
      "epoch 17, loss 0.333202, w 0.9428255558013916, b -0.0009532321710139513\n",
      "epoch 18, loss 0.836649, w 0.9397187232971191, b -0.0010077269980683923\n",
      "epoch 19, loss 0.445019, w 0.9363098740577698, b -0.0010620475513860583\n",
      "epoch 20, loss 1.151626, w 0.9331657886505127, b -0.001116196159273386\n",
      "epoch 21, loss 0.529720, w 0.9299334287643433, b -0.0011701573384925723\n",
      "epoch 22, loss 0.943426, w 0.926815927028656, b -0.0012239511124789715\n",
      "epoch 23, loss 0.612210, w 0.9237517714500427, b -0.0012775533832609653\n",
      "epoch 24, loss 0.951641, w 0.9204648733139038, b -0.0013309994246810675\n",
      "epoch 25, loss 0.483159, w 0.9171432256698608, b -0.0013842993648722768\n",
      "epoch 26, loss 1.170987, w 0.9139106869697571, b -0.0014374436577782035\n",
      "epoch 27, loss 0.455119, w 0.9106106162071228, b -0.0014904012205079198\n",
      "epoch 28, loss 0.805084, w 0.9075427651405334, b -0.0015431821811944246\n",
      "epoch 29, loss 0.442955, w 0.904384195804596, b -0.0015957897994667292\n",
      "epoch 30, loss 0.818140, w 0.9011927843093872, b -0.0016482245409861207\n",
      "epoch 31, loss 0.273225, w 0.8978900909423828, b -0.0017005146946758032\n",
      "epoch 32, loss 0.392034, w 0.8947228789329529, b -0.0017525959992781281\n",
      "epoch 33, loss 0.831688, w 0.8915708661079407, b -0.0018045271281152964\n",
      "epoch 34, loss 0.471072, w 0.888396680355072, b -0.0018563087796792388\n",
      "epoch 35, loss 0.788832, w 0.8851818442344666, b -0.001907908939756453\n",
      "epoch 36, loss 0.519768, w 0.8820690512657166, b -0.0019593595061451197\n",
      "epoch 37, loss 0.484784, w 0.8788527846336365, b -0.0020106416195631027\n",
      "epoch 38, loss 0.252051, w 0.8756164908409119, b -0.0020617591217160225\n",
      "epoch 39, loss 0.338473, w 0.8724716305732727, b -0.0021126559004187584\n",
      "epoch 40, loss 0.255989, w 0.8697280883789062, b -0.002163494471460581\n",
      "epoch 41, loss 0.326790, w 0.8663875460624695, b -0.0022141151130199432\n",
      "epoch 42, loss 0.513430, w 0.8633979558944702, b -0.0022645434364676476\n",
      "epoch 43, loss 0.663881, w 0.8604356646537781, b -0.00231483718380332\n",
      "epoch 44, loss 0.451457, w 0.8574707508087158, b -0.0023649618960916996\n",
      "epoch 45, loss 0.257181, w 0.8543062806129456, b -0.002414957620203495\n",
      "epoch 46, loss 0.437391, w 0.8514366149902344, b -0.0024647812824696302\n",
      "epoch 47, loss 0.508671, w 0.8487069606781006, b -0.0025144361425191164\n",
      "epoch 48, loss 0.175808, w 0.8460376858711243, b -0.002563935937359929\n",
      "epoch 49, loss 0.312799, w 0.8431934118270874, b -0.0026133153587579727\n",
      "epoch 50, loss 1.041952, w 0.8404824733734131, b -0.0026625317987054586\n",
      "epoch 51, loss 0.910109, w 0.8376323580741882, b -0.002711591776460409\n",
      "epoch 52, loss 0.380580, w 0.834665834903717, b -0.002760448260232806\n",
      "epoch 53, loss 0.417182, w 0.8318502306938171, b -0.0028092251159250736\n",
      "epoch 54, loss 0.108802, w 0.8289152979850769, b -0.002857854822650552\n",
      "epoch 55, loss 0.447914, w 0.8261532783508301, b -0.0029063138645142317\n",
      "epoch 56, loss 0.566981, w 0.8234344124794006, b -0.0029546439182013273\n",
      "epoch 57, loss 0.478660, w 0.8204320073127747, b -0.003002801677212119\n",
      "epoch 58, loss 0.311234, w 0.8176602125167847, b -0.0030507349874824286\n",
      "epoch 59, loss 0.271793, w 0.8146511316299438, b -0.003098616609349847\n",
      "epoch 60, loss 0.590863, w 0.8116059303283691, b -0.0031462986953556538\n",
      "epoch 61, loss 0.417974, w 0.8087174296379089, b -0.0031938357278704643\n",
      "epoch 62, loss 0.313027, w 0.8060920238494873, b -0.003241216065362096\n",
      "epoch 63, loss 0.245117, w 0.8033226728439331, b -0.0032884811516851187\n",
      "epoch 64, loss 0.356742, w 0.8004086017608643, b -0.0033355923369526863\n",
      "epoch 65, loss 0.523695, w 0.797458291053772, b -0.003382525173947215\n",
      "epoch 66, loss 0.809797, w 0.7947188019752502, b -0.0034292989876121283\n",
      "epoch 67, loss 0.113995, w 0.7918431758880615, b -0.003475934499874711\n",
      "epoch 68, loss 0.575326, w 0.7891107201576233, b -0.0035224431194365025\n",
      "epoch 69, loss 0.390739, w 0.7860520482063293, b -0.0035687352064996958\n",
      "epoch 70, loss 0.444042, w 0.783141016960144, b -0.0036149376537650824\n",
      "epoch 71, loss 0.582163, w 0.7802526354789734, b -0.003660975256934762\n",
      "epoch 72, loss 0.244065, w 0.777357816696167, b -0.0037068496458232403\n",
      "epoch 73, loss 0.183419, w 0.7746301293373108, b -0.003752593183889985\n",
      "epoch 74, loss 0.270312, w 0.7719758152961731, b -0.0037981760688126087\n",
      "epoch 75, loss 0.494641, w 0.7693368792533875, b -0.0038435980677604675\n",
      "epoch 76, loss 0.354968, w 0.7664285898208618, b -0.0038888922426849604\n",
      "epoch 77, loss 0.315416, w 0.7639424800872803, b -0.003934003412723541\n",
      "epoch 78, loss 0.336896, w 0.7612788677215576, b -0.003979015164077282\n",
      "epoch 79, loss 0.286878, w 0.7588130235671997, b -0.004023910034447908\n",
      "epoch 80, loss 0.220380, w 0.7562771439552307, b -0.004068645648658276\n",
      "epoch 81, loss 0.250246, w 0.7536622881889343, b -0.004113251809030771\n",
      "epoch 82, loss 0.242195, w 0.7509347796440125, b -0.004157703369855881\n",
      "epoch 83, loss 0.429919, w 0.7483468651771545, b -0.004202014300972223\n",
      "epoch 84, loss 0.280449, w 0.7457725405693054, b -0.004246198572218418\n",
      "epoch 85, loss 0.469995, w 0.7431083917617798, b -0.004290229175239801\n",
      "epoch 86, loss 0.150878, w 0.7402480840682983, b -0.004334080033004284\n",
      "epoch 87, loss 0.319692, w 0.7375407814979553, b -0.00437786104157567\n",
      "epoch 88, loss 0.265668, w 0.7348669767379761, b -0.004421489778906107\n",
      "epoch 89, loss 0.353387, w 0.7322906851768494, b -0.004464964848011732\n",
      "epoch 90, loss 0.497612, w 0.7294699549674988, b -0.0045083062723279\n",
      "epoch 91, loss 0.204821, w 0.7271085977554321, b -0.004551485180854797\n",
      "epoch 92, loss 0.552094, w 0.7247686982154846, b -0.004594550468027592\n",
      "epoch 93, loss 0.502629, w 0.7223673462867737, b -0.004637479782104492\n",
      "epoch 94, loss 0.290535, w 0.7197421789169312, b -0.004680318757891655\n",
      "epoch 95, loss 0.516179, w 0.7173215746879578, b -0.004722957964986563\n",
      "epoch 96, loss 0.546233, w 0.715001106262207, b -0.004765496123582125\n",
      "epoch 97, loss 0.571427, w 0.712418794631958, b -0.004807921126484871\n",
      "epoch 98, loss 0.928977, w 0.70975261926651, b -0.004850223194807768\n",
      "epoch 99, loss 0.395929, w 0.7071191072463989, b -0.0048923674039542675\n",
      "epoch 100, loss 0.181151, w 0.7047168016433716, b -0.004934354219585657\n"
     ]
    }
   ],
   "source": [
    "for epoch in range(num_epochs):\n",
    "    for X, y in data_iter(batch_size, features, labels):\n",
    "        l = loss(net(_X, w, b), y)\n",
    "        l.sum().backward()\n",
    "        sgd([w, b], lr, batch_size)\n",
    "    with torch.no_grad():\n",
    "        train_l = loss(net(X, w, b), y)\n",
    "        print(f'epoch {epoch + 1}, loss {float(train_l.mean()):f}, w {w[0, 0]}, b {b[0]}')"
   ]
  },
  {
   "cell_type": "markdown",
   "metadata": {},
   "source": [
    "展示训练结果"
   ]
  },
  {
   "cell_type": "code",
   "execution_count": 241,
   "metadata": {},
   "outputs": [
    {
     "data": {
      "image/png": "[encoded data removed]",
      "text/plain": [
       "<Figure size 432x288 with 1 Axes>"
      ]
     },
     "metadata": {
      "needs_background": "light"
     },
     "output_type": "display_data"
    }
   ],
   "source": [
    "_y = net(features, w, b)\n",
    "plt.title(\"linear model\")\n",
    "plt.xlabel(\"x\")\n",
    "plt.ylabel(\"y\")\n",
    "plt.plot(features.numpy(), labels.numpy(), 'ob')\n",
    "plt.plot(features.numpy(), _y.detach().numpy(), 'r')\n",
    "plt.show()"
   ]
  },
  {
   "cell_type": "markdown",
   "metadata": {},
   "source": [
    "### 坑\n",
    "- 注意对原始数据进行处理时,最后需要的维度是怎么样的,维度不对矩阵乘法运行不了\n",
    "- 留意 tensor 中元素的数据类型\n",
    "- 千万记得在自动求导后清除梯度(param.grad.zero_())"
   ]
  }
 ],
 "metadata": {
  "kernelspec": {
   "display_name": "Python 3.10.5 64-bit",
   "language": "python",
   "name": "python3"
  },
  "language_info": {
   "codemirror_mode": {
    "name": "ipython",
    "version": 3
   },
   "file_extension": ".py",
   "mimetype": "text/x-python",
   "name": "python",
   "nbconvert_exporter": "python",
   "pygments_lexer": "ipython3",
   "version": "3.10.5"
  },
  "orig_nbformat": 4,
  "vscode": {
   "interpreter": {
    "hash": "719d1ba2a56933e3225a4ce5a6b623ad0990912c1a8e177d0a4cf9de383c4ff3"
   }
  }
 },
 "nbformat": 4,
 "nbformat_minor": 2
}
