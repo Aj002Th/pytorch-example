{
 "cells": [
  {
   "cell_type": "markdown",
   "metadata": {},
   "source": [
    "## 变分自编码器简洁实现"
   ]
  },
  {
   "cell_type": "markdown",
   "metadata": {},
   "source": [
    "例子: MNIST 数据集图片训练"
   ]
  },
  {
   "cell_type": "code",
   "execution_count": 1,
   "metadata": {},
   "outputs": [],
   "source": [
    "import torch\n",
    "import torchvision\n",
    "from torch import nn\n",
    "from torchvision import transforms\n",
    "from torch.utils import data\n",
    "import torch.nn.functional as F\n",
    "from matplotlib import pyplot as plt\n",
    "from torchvision.utils import save_image\n",
    "import os\n",
    "import time\n",
    "import numpy as np\n",
    "from itertools import cycle"
   ]
  },
  {
   "cell_type": "markdown",
   "metadata": {},
   "source": [
    "### 加载数据集"
   ]
  },
  {
   "cell_type": "code",
   "execution_count": 2,
   "metadata": {},
   "outputs": [],
   "source": [
    "def load_data_mnist(batch_size, resize=None):\n",
    "    \"\"\"下载MNIST数据集，然后将其加载到内存中\"\"\"\n",
    "    trans = [transforms.ToTensor()]\n",
    "    if resize:\n",
    "        trans.insert(0, transforms.Resize(resize))\n",
    "    trans = transforms.Compose(trans)\n",
    "    mnist_train = torchvision.datasets.MNIST(\n",
    "        root=\"./data\", train=True, transform=trans, download=True)\n",
    "    mnist_test = torchvision.datasets.MNIST(\n",
    "        root=\"./data\", train=False, transform=trans, download=True)\n",
    "    return (data.DataLoader(mnist_train, batch_size, shuffle=True,\n",
    "                            num_workers=0),\n",
    "            data.DataLoader(mnist_test, batch_size, shuffle=False,\n",
    "                            num_workers=0))"
   ]
  },
  {
   "cell_type": "markdown",
   "metadata": {},
   "source": [
    "### 定义网络结构"
   ]
  },
  {
   "cell_type": "code",
   "execution_count": 3,
   "metadata": {},
   "outputs": [],
   "source": [
    "class Variable_AutoEncoder(nn.Module):\n",
    "    def __init__(self):\n",
    "        super(Variable_AutoEncoder, self).__init__()\n",
    "\n",
    "        # 定义编码器\n",
    "        self.Encoder = nn.Sequential(\n",
    "            nn.Linear(784, 400),\n",
    "            nn.ReLU(),\n",
    "        )\n",
    "\n",
    "        # 定义解码器\n",
    "        self.Decoder = nn.Sequential(\n",
    "            nn.Linear(20, 400),\n",
    "            nn.ReLU(),\n",
    "            nn.Linear(400, 784),\n",
    "            nn.Sigmoid()\n",
    "        )\n",
    "\n",
    "        self.fc_mean = nn.Linear(400, 20)  # 均值\n",
    "        self.fc_sigma = nn.Linear(400, 20) # 标准差\n",
    "\n",
    "    def forward(self, input):\n",
    "        # 展平\n",
    "        code = input.view(input.size(0), -1)\n",
    "\n",
    "        # 放入编码器\n",
    "        code = self.Encoder(code)\n",
    "\n",
    "        # 求均值和标准差 \n",
    "        mean = self.fc_mean(code)\n",
    "        sigma = self.fc_sigma(code)\n",
    "\n",
    "        # 使用均值和标准差生成隐变量c        \n",
    "        e = torch.randn_like(sigma)\n",
    "        c = torch.exp(sigma) * e + mean\n",
    "\n",
    "        # 放入解码器\n",
    "        output = self.Decoder(c)\n",
    "\n",
    "        output = output.view(input.size(0), 1, 28, 28)\n",
    "        return output, mean, sigma\n"
   ]
  },
  {
   "cell_type": "code",
   "execution_count": 4,
   "metadata": {},
   "outputs": [],
   "source": [
    "net = Variable_AutoEncoder()\n",
    "net = net.cuda()"
   ]
  },
  {
   "cell_type": "markdown",
   "metadata": {},
   "source": [
    "### 定义作图工具"
   ]
  },
  {
   "cell_type": "code",
   "execution_count": 5,
   "metadata": {},
   "outputs": [],
   "source": [
    "def draw(title, xlabel, ylabel, x, y):\n",
    "    plt.title(title)\n",
    "    plt.xlabel(xlabel)\n",
    "    plt.ylabel(ylabel)\n",
    "    plt.plot(x, y, 'r')\n",
    "    plt.show()"
   ]
  },
  {
   "cell_type": "markdown",
   "metadata": {},
   "source": [
    "### 定义训练函数"
   ]
  },
  {
   "cell_type": "code",
   "execution_count": 6,
   "metadata": {},
   "outputs": [],
   "source": [
    "# 生成图片的存储位置\n",
    "sample_dir = 'samples'\n",
    "if not os.path.exists(sample_dir):\n",
    "    os.makedirs(sample_dir)"
   ]
  },
  {
   "cell_type": "code",
   "execution_count": 7,
   "metadata": {},
   "outputs": [],
   "source": [
    "def train_epoch_mlp(net, train_iter, loss, updater):\n",
    "    \"\"\"训练模型的一个迭代周期\"\"\" \n",
    "    # 要返回的损失\n",
    "    l, BCE, KLD, X_hat = 0, 0, 0, 0\n",
    "\n",
    "    # 将模型调整成训练模式\n",
    "    if isinstance(net, torch.nn.Module):\n",
    "        net.train()\n",
    "\n",
    "    # 训练损失总和、训练精准度总和、样本数\n",
    "    updater.zero_grad()\n",
    "    for X, _ in train_iter:\n",
    "        X  = X.cuda()\n",
    "        X_hat, mean, sigma = net(X)\n",
    "        l, BCE, KLD = loss(X_hat, X, mean, sigma)\n",
    "        l.mean().backward()\n",
    "        updater.step()\n",
    "\n",
    "    # 返回重构损失和KL散度\n",
    "    return l, BCE, KLD"
   ]
  },
  {
   "cell_type": "code",
   "execution_count": 8,
   "metadata": {},
   "outputs": [],
   "source": [
    "def train_mlp(net, train_iter, test_iter, loss, num_epochs, updater):\n",
    "    test_iter = cycle(iter(test_iter))\n",
    "    loss_list = []\n",
    "    BCE_list = []\n",
    "    KLD_list = []\n",
    "\n",
    "    for epoch in range(num_epochs):\n",
    "        l, BCE, KLD = train_epoch_mlp(net, train_iter, loss, updater)\n",
    "        l = l.cpu().detach().numpy()\n",
    "        BCE = BCE.cpu().detach().numpy()\n",
    "        KLD = KLD.cpu().detach().numpy()\n",
    "        loss_list.append(l)\n",
    "        BCE_list.append(BCE)\n",
    "        KLD_list.append(KLD)\n",
    "\n",
    "        # 显示1张生成结果\n",
    "        X, _ = next(test_iter)\n",
    "        X = X.cuda()\n",
    "        X_hat, _1, _2 = net(X)\n",
    "        save_image(X_hat, os.path.join(sample_dir, f'epoch-{epoch}.png'))\n",
    "\n",
    "\n",
    "    epochlist = range(1, num_epochs + 1)\n",
    "    draw('loss_list', 'epochs', 'loss', epochlist, loss_list)\n",
    "    draw('BCE_list', 'epochs', 'BCE', epochlist, BCE_list)\n",
    "    draw('KLD_list', 'epochs', 'KLD', epochlist, KLD_list)"
   ]
  },
  {
   "cell_type": "markdown",
   "metadata": {},
   "source": [
    "### 进行训练"
   ]
  },
  {
   "cell_type": "code",
   "execution_count": 9,
   "metadata": {},
   "outputs": [],
   "source": [
    "def loss_function(x_hat, x, mu, sigma):\n",
    "    # 1. the reconstruction loss.\n",
    "    BCE = F.binary_cross_entropy(x_hat, x, reduction='sum')\n",
    "\n",
    "    # 2. KL-divergence\n",
    "    KLD = 0.5 * torch.sum(torch.exp(sigma) + torch.pow(mu, 2) - 1. - sigma)\n",
    "\n",
    "    # 3. total loss\n",
    "    loss = BCE + KLD\n",
    "\n",
    "    return loss, BCE, KLD"
   ]
  },
  {
   "cell_type": "code",
   "execution_count": 10,
   "metadata": {},
   "outputs": [
    {
     "data": {
      "image/png": "[encoded data removed]",
      "text/plain": [
       "<Figure size 432x288 with 1 Axes>"
      ]
     },
     "metadata": {
      "needs_background": "light"
     },
     "output_type": "display_data"
    },
    {
     "data": {
      "image/png": "[encoded data removed]",
      "text/plain": [
       "<Figure size 432x288 with 1 Axes>"
      ]
     },
     "metadata": {
      "needs_background": "light"
     },
     "output_type": "display_data"
    },
    {
     "data": {
      "image/png": "[encoded data removed]",
      "text/plain": [
       "<Figure size 432x288 with 1 Axes>"
      ]
     },
     "metadata": {
      "needs_background": "light"
     },
     "output_type": "display_data"
    }
   ],
   "source": [
    "batch_size, lr, num_epochs = 256, 0.001, 50\n",
    "loss = loss_function    \n",
    "\n",
    "# 可自动进行学习率的调整\n",
    "trainer = torch.optim.Adagrad(net.parameters(), lr=lr)\n",
    "\n",
    "train_iter, test_iter = load_data_mnist(batch_size)\n",
    "train_mlp(net, train_iter, test_iter, loss, num_epochs, trainer)"
   ]
  }
 ],
 "metadata": {
  "kernelspec": {
   "display_name": "Python 3.10.5 64-bit",
   "language": "python",
   "name": "python3"
  },
  "language_info": {
   "codemirror_mode": {
    "name": "ipython",
    "version": 3
   },
   "file_extension": ".py",
   "mimetype": "text/x-python",
   "name": "python",
   "nbconvert_exporter": "python",
   "pygments_lexer": "ipython3",
   "version": "3.10.5"
  },
  "orig_nbformat": 4,
  "vscode": {
   "interpreter": {
    "hash": "719d1ba2a56933e3225a4ce5a6b623ad0990912c1a8e177d0a4cf9de383c4ff3"
   }
  }
 },
 "nbformat": 4,
 "nbformat_minor": 2
}
