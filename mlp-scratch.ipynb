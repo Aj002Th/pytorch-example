{
 "cells": [
  {
   "cell_type": "markdown",
   "metadata": {},
   "source": [
    "## 多层感知机的从零实现"
   ]
  },
  {
   "cell_type": "markdown",
   "metadata": {},
   "source": [
    "例子: 解决异或问题"
   ]
  },
  {
   "cell_type": "code",
   "execution_count": 218,
   "metadata": {},
   "outputs": [],
   "source": [
    "import numpy as np\n",
    "from matplotlib import pyplot as plt"
   ]
  },
  {
   "cell_type": "markdown",
   "metadata": {},
   "source": [
    "### 训练数据"
   ]
  },
  {
   "cell_type": "code",
   "execution_count": 219,
   "metadata": {},
   "outputs": [],
   "source": [
    "data = [[[0, 0], [0]],\n",
    "        [[0, 1], [1]],\n",
    "        [[1, 0], [1]],\n",
    "        [[1, 1], [0]]]\n",
    "\n",
    "X = np.array([x[0] for x in data]).reshape(4,2)\n",
    "Y = np.array([x[1] for x in data]).reshape(4,1)"
   ]
  },
  {
   "cell_type": "markdown",
   "metadata": {},
   "source": [
    "### 精确度统计"
   ]
  },
  {
   "cell_type": "code",
   "execution_count": 220,
   "metadata": {},
   "outputs": [],
   "source": [
    "def accuracy(y_hat, y):\n",
    "    cnt = 0\n",
    "    y_hat = [1 if i > 0.5 else 0 for i in y_hat]\n",
    "    for i in range(len(y)):\n",
    "        if y[i] == y_hat[i]:\n",
    "            cnt += 1\n",
    "    return cnt / len(y)"
   ]
  },
  {
   "cell_type": "markdown",
   "metadata": {},
   "source": [
    "### 作图函数"
   ]
  },
  {
   "cell_type": "code",
   "execution_count": 221,
   "metadata": {},
   "outputs": [],
   "source": [
    "def draw(title, xlabel, ylabel, x, y):\n",
    "    plt.title(title)\n",
    "    plt.xlabel(xlabel)\n",
    "    plt.ylabel(ylabel)\n",
    "    plt.plot(x, y, 'r')\n",
    "    plt.show()"
   ]
  },
  {
   "cell_type": "markdown",
   "metadata": {},
   "source": [
    "### 初始化参数"
   ]
  },
  {
   "cell_type": "code",
   "execution_count": 222,
   "metadata": {},
   "outputs": [],
   "source": [
    "w1 = np.random.random((2,2))\n",
    "b1 = np.random.random((1,2))\n",
    "w2 = np.random.random((2,1))\n",
    "b2 = np.random.random((1,1))\n",
    "\n",
    "z1, z2 = 0, 0\n",
    "a0, a1, a2 = 0, 0, 0"
   ]
  },
  {
   "cell_type": "markdown",
   "metadata": {},
   "source": [
    "### 激活函数"
   ]
  },
  {
   "cell_type": "code",
   "execution_count": 223,
   "metadata": {},
   "outputs": [],
   "source": [
    "def sigmoid(x):\n",
    "    return 1 / (1 + np.exp(-x))\n",
    "\n",
    "def derivative_sigmoid(x):\n",
    "    return sigmoid(x) * (1 - sigmoid(x))"
   ]
  },
  {
   "cell_type": "markdown",
   "metadata": {},
   "source": [
    "### 损失函数"
   ]
  },
  {
   "cell_type": "code",
   "execution_count": 224,
   "metadata": {},
   "outputs": [],
   "source": [
    "def MSE(y, y_hat):\n",
    "    return sum((y - y_hat) ** 2) / 2\n",
    "\n",
    "def derivative_MSE(y, y_hat):\n",
    "    return y - y_hat"
   ]
  },
  {
   "cell_type": "markdown",
   "metadata": {},
   "source": [
    "### 网络结构"
   ]
  },
  {
   "cell_type": "code",
   "execution_count": 225,
   "metadata": {},
   "outputs": [],
   "source": [
    "def mlp_net(x):\n",
    "    global a0, a1, a2, z1, z2, w1, b1, w2, b2\n",
    "    a0 = x\n",
    "\n",
    "    z1 = a0 @ w1 + b1\n",
    "    a1 = sigmoid(z1)\n",
    "\n",
    "    z2 = a1 @ w2 + b2\n",
    "    a2 = sigmoid(z2)\n",
    "\n",
    "    return a2"
   ]
  },
  {
   "cell_type": "markdown",
   "metadata": {},
   "source": [
    "### 反向传播更新参数"
   ]
  },
  {
   "cell_type": "code",
   "execution_count": 226,
   "metadata": {},
   "outputs": [],
   "source": [
    "def update(y_hat, lr):\n",
    "    global a0, a1, a2, z1, z2, w1, b1, w2, b2\n",
    "    delta = derivative_MSE(Y, y_hat) * derivative_sigmoid(z2)\n",
    "    w2_grad = a1.T @ delta\n",
    "    b2_grad = np.sum(delta, axis=0)\n",
    "\n",
    "    delta = delta @ w2.T * derivative_sigmoid(z1)\n",
    "    w1_grad = a0.T @ delta\n",
    "    b1_grad = np.sum(delta, axis=0)\n",
    "\n",
    "    w1 += lr * w1_grad\n",
    "    b1 += lr * b1_grad\n",
    "    w2 += lr * w2_grad\n",
    "    b2 += lr * b2_grad"
   ]
  },
  {
   "cell_type": "markdown",
   "metadata": {},
   "source": [
    "### 训练函数"
   ]
  },
  {
   "cell_type": "code",
   "execution_count": 227,
   "metadata": {},
   "outputs": [],
   "source": [
    "def train_epoch(net, loss, lr):\n",
    "    y_hat = net(X)\n",
    "    l = loss(y_hat, Y)\n",
    "    acc = accuracy(y_hat, Y)\n",
    "    update(y_hat, lr)\n",
    "    \n",
    "    return l, acc"
   ]
  },
  {
   "cell_type": "code",
   "execution_count": 228,
   "metadata": {},
   "outputs": [],
   "source": [
    "def train(net, loss, num_epochs, lr):\n",
    "    loss_list = []\n",
    "    acc_list = []\n",
    "    epoch_list = [x+1 for x in range(num_epochs)]\n",
    "\n",
    "    for epoch in range(num_epochs):\n",
    "        t_loss, t_acc = train_epoch(net, loss, lr)\n",
    "        loss_list.append(t_loss)\n",
    "        acc_list.append(t_acc)\n",
    "\n",
    "    draw('train_loss', 'epochs', 'loss', epoch_list, loss_list)\n",
    "    draw('train_acc', 'epochs', 'acc', epoch_list, acc_list)\n",
    "        \n",
    "    print(f'最终训练损失: {loss_list[-1]}')\n",
    "    print(f'最终训练精度: {acc_list[-1]}')"
   ]
  },
  {
   "cell_type": "markdown",
   "metadata": {},
   "source": [
    "### 开始训练"
   ]
  },
  {
   "cell_type": "code",
   "execution_count": 229,
   "metadata": {},
   "outputs": [
    {
     "data": {
      "image/png": "[encoded data removed]",
      "text/plain": [
       "<Figure size 432x288 with 1 Axes>"
      ]
     },
     "metadata": {
      "needs_background": "light"
     },
     "output_type": "display_data"
    },
    {
     "data": {
      "image/png": "[encoded data removed]",
      "text/plain": [
       "<Figure size 432x288 with 1 Axes>"
      ]
     },
     "metadata": {
      "needs_background": "light"
     },
     "output_type": "display_data"
    },
    {
     "name": "stdout",
     "output_type": "stream",
     "text": [
      "最终训练损失: [1.1931138e-05]\n",
      "最终训练精度: 1.0\n"
     ]
    }
   ],
   "source": [
    "num_epochs = 200000\n",
    "lr = 1\n",
    "\n",
    "loss = MSE\n",
    "net = mlp_net\n",
    "\n",
    "train(net, loss, num_epochs, lr)"
   ]
  }
 ],
 "metadata": {
  "kernelspec": {
   "display_name": "Python 3.10.5 64-bit",
   "language": "python",
   "name": "python3"
  },
  "language_info": {
   "codemirror_mode": {
    "name": "ipython",
    "version": 3
   },
   "file_extension": ".py",
   "mimetype": "text/x-python",
   "name": "python",
   "nbconvert_exporter": "python",
   "pygments_lexer": "ipython3",
   "version": "3.10.5"
  },
  "orig_nbformat": 4,
  "vscode": {
   "interpreter": {
    "hash": "719d1ba2a56933e3225a4ce5a6b623ad0990912c1a8e177d0a4cf9de383c4ff3"
   }
  }
 },
 "nbformat": 4,
 "nbformat_minor": 2
}
